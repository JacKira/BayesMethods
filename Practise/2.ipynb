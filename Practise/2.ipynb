{
 "cells": [
  {
   "cell_type": "code",
   "execution_count": 1,
   "id": "8dca99b2",
   "metadata": {},
   "outputs": [],
   "source": [
    "import numpy as np\n",
    "import scipy as sc\n",
    "import scipy.misc as msc\n",
    "import scipy.stats as st\n",
    "from scipy.special import comb\n",
    "import matplotlib.pyplot as plt\n",
    "from mpl_toolkits.mplot3d import Axes3D\n",
    "from scipy.linalg import sqrtm\n",
    "from matplotlib import cm\n",
    "%matplotlib inline\n",
    "from IPython.display import Image\n",
    "from IPython.core.display import HTML \n",
    "import pandas as pd"
   ]
  },
  {
   "cell_type": "markdown",
   "id": "8cf69de3",
   "metadata": {},
   "source": [
    "# Пример 1"
   ]
  },
  {
   "cell_type": "code",
   "execution_count": 2,
   "id": "5755b1f6",
   "metadata": {},
   "outputs": [
    {
     "data": {
      "image/png": "[encoded data removed]",
      "text/plain": [
       "<IPython.core.display.Image object>"
      ]
     },
     "execution_count": 2,
     "metadata": {
      "image/png": {
       "height": 500,
       "width": 500
      }
     },
     "output_type": "execute_result"
    }
   ],
   "source": [
    "PATH = \"/Users/reblochonMasque/Documents/Drawings/\"\n",
    "Image(filename = \"./example_1.png\", width=500, height=500)"
   ]
  },
  {
   "cell_type": "markdown",
   "id": "d6277a6c",
   "metadata": {},
   "source": [
    "T - преступник,\n",
    "A - сигнализация,\n",
    "E - землятресение,\n",
    "R - сообщение по радио о землятресении."
   ]
  },
  {
   "cell_type": "markdown",
   "id": "c96f7d64",
   "metadata": {},
   "source": [
    "$$\n",
    "\\mathbf{P}(A,T,E,R) = \\mathbf{P}(A|T,E)\\cdot \\mathbf{P}(R|E)\\cdot \\mathbf{P}(E)\\cdot \\mathbf{P}(T)\n",
    "$$"
   ]
  },
  {
   "cell_type": "code",
   "execution_count": 3,
   "id": "fbabfda9",
   "metadata": {},
   "outputs": [],
   "source": [
    "inp_data = pd.DataFrame({\"Prob\":[\"P(T=1)\",\"P(E=1)\"], \"value\":[1e-3, 1e-2]})"
   ]
  },
  {
   "cell_type": "code",
   "execution_count": 4,
   "id": "297362aa",
   "metadata": {},
   "outputs": [
    {
     "data": {
      "text/html": [
       "<div>\n",
       "<style scoped>\n",
       "    .dataframe tbody tr th:only-of-type {\n",
       "        vertical-align: middle;\n",
       "    }\n",
       "\n",
       "    .dataframe tbody tr th {\n",
       "        vertical-align: top;\n",
       "    }\n",
       "\n",
       "    .dataframe thead th {\n",
       "        text-align: right;\n",
       "    }\n",
       "</style>\n",
       "<table border=\"1\" class=\"dataframe\">\n",
       "  <thead>\n",
       "    <tr style=\"text-align: right;\">\n",
       "      <th></th>\n",
       "      <th>Prob</th>\n",
       "      <th>value</th>\n",
       "    </tr>\n",
       "  </thead>\n",
       "  <tbody>\n",
       "    <tr>\n",
       "      <th>0</th>\n",
       "      <td>P(T=1)</td>\n",
       "      <td>0.001</td>\n",
       "    </tr>\n",
       "    <tr>\n",
       "      <th>1</th>\n",
       "      <td>P(E=1)</td>\n",
       "      <td>0.010</td>\n",
       "    </tr>\n",
       "  </tbody>\n",
       "</table>\n",
       "</div>"
      ],
      "text/plain": [
       "     Prob  value\n",
       "0  P(T=1)  0.001\n",
       "1  P(E=1)  0.010"
      ]
     },
     "execution_count": 4,
     "metadata": {},
     "output_type": "execute_result"
    }
   ],
   "source": [
    "inp_data"
   ]
  },
  {
   "cell_type": "code",
   "execution_count": 5,
   "id": "6b5c48cb",
   "metadata": {},
   "outputs": [
    {
     "data": {
      "text/html": [
       "<div>\n",
       "<style scoped>\n",
       "    .dataframe tbody tr th:only-of-type {\n",
       "        vertical-align: middle;\n",
       "    }\n",
       "\n",
       "    .dataframe tbody tr th {\n",
       "        vertical-align: top;\n",
       "    }\n",
       "\n",
       "    .dataframe thead th {\n",
       "        text-align: right;\n",
       "    }\n",
       "</style>\n",
       "<table border=\"1\" class=\"dataframe\">\n",
       "  <thead>\n",
       "    <tr style=\"text-align: right;\">\n",
       "      <th></th>\n",
       "      <th>P(A=1|T,E)</th>\n",
       "      <th>E=0</th>\n",
       "      <th>E=1</th>\n",
       "    </tr>\n",
       "  </thead>\n",
       "  <tbody>\n",
       "    <tr>\n",
       "      <th>0</th>\n",
       "      <td>P(T=0)</td>\n",
       "      <td>0</td>\n",
       "      <td>0.1</td>\n",
       "    </tr>\n",
       "    <tr>\n",
       "      <th>1</th>\n",
       "      <td>P(T=1)</td>\n",
       "      <td>1</td>\n",
       "      <td>1.0</td>\n",
       "    </tr>\n",
       "  </tbody>\n",
       "</table>\n",
       "</div>"
      ],
      "text/plain": [
       "  P(A=1|T,E)  E=0  E=1\n",
       "0     P(T=0)    0  0.1\n",
       "1     P(T=1)    1  1.0"
      ]
     },
     "execution_count": 5,
     "metadata": {},
     "output_type": "execute_result"
    }
   ],
   "source": [
    "inp_data_cond = pd.DataFrame({\"P(A=1|T,E)\":[\"P(T=0)\",\"P(T=1)\"], \"E=0\":[0, 1], \"E=1\":[1/10,1]})\n",
    "inp_data_cond"
   ]
  },
  {
   "cell_type": "code",
   "execution_count": 6,
   "id": "b99b1e77",
   "metadata": {},
   "outputs": [
    {
     "data": {
      "text/html": [
       "<div>\n",
       "<style scoped>\n",
       "    .dataframe tbody tr th:only-of-type {\n",
       "        vertical-align: middle;\n",
       "    }\n",
       "\n",
       "    .dataframe tbody tr th {\n",
       "        vertical-align: top;\n",
       "    }\n",
       "\n",
       "    .dataframe thead th {\n",
       "        text-align: right;\n",
       "    }\n",
       "</style>\n",
       "<table border=\"1\" class=\"dataframe\">\n",
       "  <thead>\n",
       "    <tr style=\"text-align: right;\">\n",
       "      <th></th>\n",
       "      <th>P(R|E)</th>\n",
       "      <th>value</th>\n",
       "    </tr>\n",
       "  </thead>\n",
       "  <tbody>\n",
       "    <tr>\n",
       "      <th>0</th>\n",
       "      <td>E=0</td>\n",
       "      <td>0.0</td>\n",
       "    </tr>\n",
       "    <tr>\n",
       "      <th>1</th>\n",
       "      <td>E=1</td>\n",
       "      <td>0.5</td>\n",
       "    </tr>\n",
       "  </tbody>\n",
       "</table>\n",
       "</div>"
      ],
      "text/plain": [
       "  P(R|E)  value\n",
       "0    E=0    0.0\n",
       "1    E=1    0.5"
      ]
     },
     "execution_count": 6,
     "metadata": {},
     "output_type": "execute_result"
    }
   ],
   "source": [
    "inp_data_re = pd.DataFrame({\"P(R|E)\":[\"E=0\", \"E=1\"],\"value\":[0, 1/2]})\n",
    "inp_data_re"
   ]
  },
  {
   "cell_type": "markdown",
   "id": "57ab4441",
   "metadata": {},
   "source": [
    "### Вероятность взлома при условии, что включилась сигнализация "
   ]
  },
  {
   "cell_type": "markdown",
   "id": "78dcdd6c",
   "metadata": {},
   "source": [
    "$$\\mathbf{P}(T|A) = ?$$ "
   ]
  },
  {
   "cell_type": "markdown",
   "id": "4559eda5",
   "metadata": {},
   "source": [
    "$$\\mathbf{P}(T|A) = \\frac{\\mathbf{P}(TA)}{\\mathbf{P}(A)} = \\frac{\\mathbf{P}(TAE) + \\mathbf{P}(TA\\overline{E})}{\\mathbf{P}(A)}=\n",
    "$$\n",
    "\n",
    "$$\n",
    "=\\frac{\\mathbf{P}(A|TE)\\mathbf{P}(TE) + \\mathbf{P}(A|T\\overline{E})\\mathbf{P}(T\\overline{E})}{\\mathbf{P}(A|TE)\\mathbf{P}(TE) + \\mathbf{P}(A|\\overline{T}E) \\mathbf{P}(\\overline{T}E) + \\mathbf{P}(A|T\\overline{E})\\mathbf{P}(T\\overline{E}) + \\mathbf{P}(A |\\overline{T}\\cdot\\overline{E})\\mathbf{P}(\\overline{T}\\cdot\\overline{E})}\n",
    "$$\n",
    "$$\n",
    "\\mathbf{P}(TE) = \\mathbf{P}(T)\\mathbf{P}(E) = p_tp_e \n",
    "$$\n",
    "$$\n",
    "\\mathbf{P}(T\\overline{E}) = \\mathbf{P}(T)\\mathbf{P}(\\overline{E})= p_t(1-p_e)\n",
    "$$\n",
    "$$\n",
    "\\mathbf{P}(\\overline{T}\\cdot\\overline{E}) = \\mathbf{P}(\\overline{T})\\mathbf{P}(\\overline{E})= (1-p_t)p_e\n",
    "$$\n",
    "$$\n",
    "\\mathbf{P}(\\overline{T}\\cdot\\overline{E}) = \\mathbf{P}(\\overline{T})\\mathbf{P}(\\overline{E}) = (1-p_t)(1-p_e)\n",
    "$$"
   ]
  },
  {
   "cell_type": "code",
   "execution_count": 7,
   "id": "2db68462",
   "metadata": {},
   "outputs": [
    {
     "name": "stdout",
     "output_type": "stream",
     "text": [
      "Result: 0.5002501250625313\n"
     ]
    }
   ],
   "source": [
    "p_a_te = 1\n",
    "p_a_tne = 1\n",
    "p_a_ntne = 0\n",
    "p_a_nte = 1/10\n",
    "p_t = 1e-3\n",
    "p_e = 1e-2\n",
    "pc = np.array([p_a_te, p_a_tne, p_a_nte, p_a_ntne])\n",
    "ph = np.array([p_t*p_e, p_t*(1-p_e), (1-p_t)*p_e, (1-p_t)*(1-p_e)])\n",
    "p = np.sum((pc*ph)[:2])\n",
    "p_t_a =  p/ph.dot(pc).sum()\n",
    "print(f\"Result: {p_t_a}\")"
   ]
  },
  {
   "cell_type": "markdown",
   "id": "79562b77",
   "metadata": {},
   "source": [
    "### При условии сообщения по радио и включения сигнализации"
   ]
  },
  {
   "cell_type": "markdown",
   "id": "a86a2845",
   "metadata": {},
   "source": [
    "$$\\mathbf{P}(T|A,R) = ?$$ "
   ]
  },
  {
   "cell_type": "markdown",
   "id": "ea10c2b3",
   "metadata": {},
   "source": [
    "$$\\mathbf{P}(T|A,R) = \\frac{\\mathbf{P}(TAR)}{\\mathbf{P}(AR)} = \\frac{\\mathbf{P}(TARE) + \\mathbf{P}(TAR\\overline{E})}{\\mathbf{P}(AR)} =\\frac{\\mathbf{P}(TARE) + \\mathbf{P}(TAR\\overline{E})}{\\mathbf{P}(ARTE) + \\mathbf{P}(AR\\overline{T}E) + \\mathbf{P}(ART\\overline{E}) + \\mathbf{P}(AR\\overline{T}\\cdot\\overline{E})}$$\n",
    "$$\n",
    "$$"
   ]
  },
  {
   "cell_type": "markdown",
   "id": "a27657c0",
   "metadata": {},
   "source": [
    "Д/З"
   ]
  },
  {
   "cell_type": "markdown",
   "id": "3db9a399",
   "metadata": {},
   "source": [
    "### Пример 2"
   ]
  },
  {
   "cell_type": "markdown",
   "id": "cdfe00b7",
   "metadata": {},
   "source": [
    "Имеется нечестная монета"
   ]
  },
  {
   "cell_type": "markdown",
   "id": "ab4501a6",
   "metadata": {},
   "source": [
    "Распределение для правдоподобия Бернулли:\n",
    "$p(h,t|\\theta) = \\theta^h(1-\\theta)^t$"
   ]
  },
  {
   "cell_type": "markdown",
   "id": "59c4c21b",
   "metadata": {},
   "source": [
    "Пусть априорное распределение для $\\theta \\sim R(0,1)$"
   ]
  },
  {
   "cell_type": "markdown",
   "id": "33e522ad",
   "metadata": {},
   "source": [
    "Тогда на первом шаге имеем:"
   ]
  },
  {
   "cell_type": "markdown",
   "id": "cf03af41",
   "metadata": {},
   "source": [
    "$$\n",
    "p(\\theta|h=1) = \\frac{p(h=1,t=0|\\theta)p(\\theta)}{p(h)}\n",
    "$$\n",
    "\n",
    "$$\n",
    "p(h=1|\\theta) = \\theta\n",
    "$$\n",
    "Тогда"
   ]
  },
  {
   "cell_type": "code",
   "execution_count": 8,
   "id": "964472fa",
   "metadata": {},
   "outputs": [
    {
     "data": {
      "text/plain": [
       "<matplotlib.legend.Legend at 0x7f1dd9f232b0>"
      ]
     },
     "execution_count": 8,
     "metadata": {},
     "output_type": "execute_result"
    },
    {
     "data": {
      "image/png": "[encoded data removed]",
      "text/plain": [
       "<Figure size 432x288 with 1 Axes>"
      ]
     },
     "metadata": {
      "needs_background": "light"
     },
     "output_type": "display_data"
    }
   ],
   "source": [
    "from scipy.stats import uniform\n",
    "\n",
    "import matplotlib.pyplot as plt\n",
    "x = np.linspace(-1,2,100)\n",
    "fig, ax = plt.subplots(1, 1)\n",
    "ax.plot(x, uniform.pdf(x), label=\"$p(\\\\theta)$\")\n",
    "\n",
    "plt.legend()"
   ]
  },
  {
   "cell_type": "code",
   "execution_count": 9,
   "id": "c39612e9",
   "metadata": {},
   "outputs": [
    {
     "data": {
      "text/plain": [
       "<matplotlib.legend.Legend at 0x7f1dd7dcef70>"
      ]
     },
     "execution_count": 9,
     "metadata": {},
     "output_type": "execute_result"
    },
    {
     "data": {
      "image/png": "[encoded data removed]",
      "text/plain": [
       "<Figure size 432x288 with 1 Axes>"
      ]
     },
     "metadata": {
      "needs_background": "light"
     },
     "output_type": "display_data"
    }
   ],
   "source": [
    "x = np.linspace(-1,2,100)\n",
    "fig, ax = plt.subplots(1, 1)\n",
    "ax.plot(x, uniform.pdf(x)*x/2, label=\"$p(\\\\theta|h)$\")\n",
    "plt.legend()"
   ]
  },
  {
   "cell_type": "markdown",
   "id": "924ca4ec",
   "metadata": {},
   "source": [
    "В общем случае априорную плотность для $\\theta$ положим $B(a,b)$ распределением, оно является сопряженным с правдоподобием $p(h,t|\\theta) = \\theta^h(1-\\theta)^t$."
   ]
  },
  {
   "cell_type": "markdown",
   "id": "c5e6c635",
   "metadata": {},
   "source": [
    "Тогда апостериорная плотность будет тоже Бета:\n",
    "$$\n",
    "p(\\theta|t,h) \\propto \\theta^{t}(1-\\theta)^{h}\\cdot\\theta^{a-1}(1-\\theta)^{b-1}\\Rightarrow\n",
    "$$\n",
    "$$\n",
    "p(\\theta|t,t) \\propto \\theta^{t + a-1}(1-\\theta)^{h+b-1}\\Rightarrow\n",
    "$$\n",
    "$$\n",
    "p(\\theta|t,h) = B(t + a, h+b).\n",
    "$$"
   ]
  },
  {
   "cell_type": "markdown",
   "id": "1d4e39e9",
   "metadata": {},
   "source": [
    "Например если выпадет шесть решек и шесть орлов, тогда $p(\\theta|t,h) = B(t + a, h+b)$"
   ]
  },
  {
   "cell_type": "code",
   "execution_count": 10,
   "id": "e7aaaa35",
   "metadata": {},
   "outputs": [
    {
     "data": {
      "text/plain": [
       "<matplotlib.legend.Legend at 0x7f1dd7d78130>"
      ]
     },
     "execution_count": 10,
     "metadata": {},
     "output_type": "execute_result"
    },
    {
     "data": {
      "image/png": "[encoded data removed]",
      "text/plain": [
       "<Figure size 432x288 with 1 Axes>"
      ]
     },
     "metadata": {
      "needs_background": "light"
     },
     "output_type": "display_data"
    }
   ],
   "source": [
    "from scipy.stats import beta\n",
    "a = 6\n",
    "b = 6\n",
    "fig, ax = plt.subplots(1, 1)\n",
    "ax.plot(x, beta.pdf(x, 6, 6), 'b', lw=2, alpha=0.6, label=f'$B(x|{a},{b})$')\n",
    "plt.legend()"
   ]
  },
  {
   "cell_type": "markdown",
   "id": "4abb7195",
   "metadata": {},
   "source": [
    "# Предсказание"
   ]
  },
  {
   "cell_type": "markdown",
   "id": "2fd899ff",
   "metadata": {},
   "source": [
    "$$\n",
    "p(y|D) = \\int\\limits_{\\Theta} p(y|\\theta)p(\\theta|D)\\,d\\theta \\propto \\int\\limits_{\\Theta} p(y|\\theta)p(\\theta)p(D|\\theta)\n",
    "$$"
   ]
  },
  {
   "cell_type": "markdown",
   "id": "5701bcbc",
   "metadata": {},
   "source": [
    "Прогноз для нечестной монеты:"
   ]
  },
  {
   "cell_type": "markdown",
   "id": "6c27f38a",
   "metadata": {},
   "source": [
    "$$\n",
    "p(h=1|D) = \\int_{-\\infty}^{\\infty} p(h=1|\\theta)p(\\theta|D)\\,d\\theta =  \\int_{-\\infty}^{\\infty} \\theta p(\\theta|D)\\, d\\theta =  \\int_{0}^{1} \\frac{\\theta^2}{\\int_0^1 \\tilde\\theta \\,d\\tilde\\theta} \\,d\\theta = \\frac{1/3}{1/2}\n",
    "= \\frac23\n",
    "$$"
   ]
  },
  {
   "cell_type": "code",
   "execution_count": null,
   "id": "f51316d5",
   "metadata": {},
   "outputs": [],
   "source": []
  }
 ],
 "metadata": {
  "kernelspec": {
   "display_name": "Python 3",
   "language": "python",
   "name": "python3"
  },
  "language_info": {
   "codemirror_mode": {
    "name": "ipython",
    "version": 3
   },
   "file_extension": ".py",
   "mimetype": "text/x-python",
   "name": "python",
   "nbconvert_exporter": "python",
   "pygments_lexer": "ipython3",
   "version": "3.8.8"
  }
 },
 "nbformat": 4,
 "nbformat_minor": 5
}
