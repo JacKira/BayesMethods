{
  "cells": [
    {
      "cell_type": "markdown",
      "metadata": {
        "id": "16fa5749"
      },
      "source": [
        "<font color='red'> Если нет необходимых библиотек инсталируем их </font>"
      ],
      "id": "16fa5749"
    },
    {
      "cell_type": "code",
      "execution_count": null,
      "metadata": {
        "id": "0528fb57"
      },
      "outputs": [],
      "source": [
        "import matplotlib.pyplot as plt\n",
        "import torch\n",
        "import random\n",
        "import numpy as np\n",
        "import torchvision.datasets\n",
        "import torchvision.transforms as torch_T\n",
        "from PIL import Image\n",
        "import seaborn as sns\n",
        "from sklearn.model_selection import train_test_split\n",
        "import gc\n",
        "gc.enable()"
      ],
      "id": "0528fb57"
    },
    {
      "cell_type": "markdown",
      "metadata": {
        "id": "c73ef959"
      },
      "source": [
        "# Лабораторная №1"
      ],
      "id": "c73ef959"
    },
    {
      "cell_type": "code",
      "execution_count": null,
      "metadata": {
        "id": "7-rUXGcqZ2SR"
      },
      "outputs": [],
      "source": [
        "n = 2"
      ],
      "id": "7-rUXGcqZ2SR"
    },
    {
      "cell_type": "code",
      "execution_count": null,
      "metadata": {
        "id": "b9b3cfa4"
      },
      "outputs": [],
      "source": [
        "MNIST_train = torchvision.datasets.MNIST('./', download=True, train=True)\n",
        "MNIST_test = torchvision.datasets.MNIST('./', download=True, train=False)"
      ],
      "id": "b9b3cfa4"
    },
    {
      "cell_type": "code",
      "execution_count": null,
      "metadata": {
        "colab": {
          "base_uri": "https://localhost:8080/"
        },
        "id": "3df21720",
        "outputId": "a5a5845e-0d32-4773-95f2-200c793264f5"
      },
      "outputs": [
        {
          "name": "stderr",
          "output_type": "stream",
          "text": [
            "/usr/local/lib/python3.7/dist-packages/torchvision/datasets/mnist.py:62: UserWarning: train_data has been renamed data\n",
            "  warnings.warn(\"train_data has been renamed data\")\n",
            "/usr/local/lib/python3.7/dist-packages/torchvision/datasets/mnist.py:52: UserWarning: train_labels has been renamed targets\n",
            "  warnings.warn(\"train_labels has been renamed targets\")\n"
          ]
        }
      ],
      "source": [
        "X_train = MNIST_train.train_data\n",
        "y_train = MNIST_train.train_labels"
      ],
      "id": "3df21720"
    },
    {
      "cell_type": "code",
      "execution_count": null,
      "metadata": {
        "id": "9e902f80"
      },
      "outputs": [],
      "source": [
        "X_train = X_train.float().numpy()"
      ],
      "id": "9e902f80"
    },
    {
      "cell_type": "code",
      "execution_count": null,
      "metadata": {
        "colab": {
          "base_uri": "https://localhost:8080/"
        },
        "id": "12fb54a0",
        "outputId": "53d9bad9-c50e-47c6-d81c-e6fe82892f30"
      },
      "outputs": [
        {
          "data": {
            "text/plain": [
              "(60000, 28, 28)"
            ]
          },
          "execution_count": 6,
          "metadata": {},
          "output_type": "execute_result"
        }
      ],
      "source": [
        "X_train.shape"
      ],
      "id": "12fb54a0"
    },
    {
      "cell_type": "markdown",
      "metadata": {
        "id": "271e90de"
      },
      "source": [
        "# Выбор варианта"
      ],
      "id": "271e90de"
    },
    {
      "cell_type": "markdown",
      "metadata": {
        "id": "4e66c53f"
      },
      "source": [
        "Всего 60000 картинок, каждый выбирает картинки из диапазона $[6000(n-1)+1,6000\\cdot n]$ где $n$- номер по списку.\n",
        "Постройте гистограмму для ответов (y_train) и убедитесь, что у вас нет дисбаланса классов. Если есть дисбаланс, устраните его удалением соответствующего класса или удалением картинок. Порог для преобразования в $\\{0,1\\}$(см. ниже) установите равным:\n",
        "$$\n",
        "thr = 0.45 + (n-1)/100\n",
        "$$"
      ],
      "id": "4e66c53f"
    },
    {
      "cell_type": "markdown",
      "metadata": {
        "id": "84ff4019"
      },
      "source": [
        "## Преобразуем данные в нули и единицы."
      ],
      "id": "84ff4019"
    },
    {
      "cell_type": "code",
      "execution_count": null,
      "metadata": {
        "colab": {
          "base_uri": "https://localhost:8080/",
          "height": 265
        },
        "id": "683c3f71",
        "outputId": "e8b2c6f0-67be-405e-c5ac-29f3ffe3dd3f"
      },
      "outputs": [
        {
          "data": {
            "image/png": "[encoded data removed]",
            "text/plain": [
              "<Figure size 432x288 with 1 Axes>"
            ]
          },
          "metadata": {},
          "output_type": "display_data"
        }
      ],
      "source": [
        "plt.imshow(X_train[0, :, :])\n",
        "plt.show()"
      ],
      "id": "683c3f71"
    },
    {
      "cell_type": "code",
      "execution_count": null,
      "metadata": {
        "id": "ffd30f61"
      },
      "outputs": [],
      "source": [
        "thr = 0.45 # Номер варианта см. список группы\n",
        "X_train[X_train>thr] = 1\n",
        "X_train[X_train<thr] = 0"
      ],
      "id": "ffd30f61"
    },
    {
      "cell_type": "markdown",
      "metadata": {
        "id": "42478ff9"
      },
      "source": [
        "## Картинка после преобразования"
      ],
      "id": "42478ff9"
    },
    {
      "cell_type": "code",
      "execution_count": null,
      "metadata": {
        "colab": {
          "base_uri": "https://localhost:8080/",
          "height": 283
        },
        "id": "c9a05fe2",
        "outputId": "2b227d5e-dfc3-4833-9401-b61ece01f1c3"
      },
      "outputs": [
        {
          "data": {
            "image/png": "[encoded data removed]",
            "text/plain": [
              "<Figure size 432x288 with 1 Axes>"
            ]
          },
          "metadata": {},
          "output_type": "display_data"
        },
        {
          "name": "stdout",
          "output_type": "stream",
          "text": [
            "tensor(5)\n"
          ]
        }
      ],
      "source": [
        "plt.imshow(X_train[0, :, :])\n",
        "plt.show()\n",
        "print(y_train[0])"
      ],
      "id": "c9a05fe2"
    },
    {
      "cell_type": "markdown",
      "metadata": {
        "id": "e33c7ae0"
      },
      "source": [
        "## Применим EM-алгоритм для смеси распределений Бернулли"
      ],
      "id": "e33c7ae0"
    },
    {
      "cell_type": "markdown",
      "metadata": {
        "id": "1a8c1c6d"
      },
      "source": [
        "Найти выражения для E-шага и M-шага для смеси C штук распределений\n",
        "Бернулли \n",
        "$$\n",
        "p(X\\mid \\theta) = \\prod_{i=1}^D \\sum_{c=1}^C p (x_i|\\mu_c)\\pi_c, \\quad x_i\\in \\mathbf{R}^N,  \\quad \\mu\\in\\mathbf{R}^N\n",
        "$$\n",
        "$$\n",
        "p(z\\mid\\mu_c) = \\prod_{j=1}^N \\mu_{cj}^{z_j}(1-\\mu_{cj})^{1-z_j}, \\quad  z_j\\in\\{0,1\\},\n",
        "$$\n",
        "\n",
        "где параметры модели $\\theta = \\{\\mu_{11},\\dots,\\mu_{1N},\\dots,\\mu_{C1},\\dots,\\mu_{CN}, \\pi_1,\\dots, \\pi_C\\}$. \n",
        "\n",
        "<font color='red'> В отличие от модели на семинаре здесь параметр $\\mu$ это вектор размера $N$ !!! </font>"
      ],
      "id": "1a8c1c6d"
    },
    {
      "cell_type": "markdown",
      "metadata": {
        "id": "bf79c79d"
      },
      "source": [
        "## Задание 1: получить выражения для E-шага"
      ],
      "id": "bf79c79d"
    },
    {
      "cell_type": "markdown",
      "metadata": {
        "id": "259765a5"
      },
      "source": [
        "\n",
        "Получить формулы для E-шага. \n",
        "$$\n",
        "q(t_i) = p (t_i\\mid x_i,\\theta)\n",
        "$$\n",
        "$$\n",
        "\\gamma_{i,c} = q(t_i=c) = \\dots\n",
        "$$\n"
      ],
      "id": "259765a5"
    },
    {
      "cell_type": "markdown",
      "metadata": {
        "id": "cf85823b"
      },
      "source": [
        "<b>Важный трюк 1:</b> при вычислении произведений, можно использовать логарифмирование, при этом, чтобы избежать нулей под логарифмом, можно нули заменять на очень маленькие числа. \n",
        "\n",
        "<b>Важный трюк 2:</b> важно избегать числовых ошибок. В какой-то момент вам может понадобиться вычислить формулу следующего вида (если использовать логарифмирование (см. трюк 1)): $\\frac{e^{y_i}}{\\sum_j e^{y_j}}$, которая называется _softmax_. Когда вы вычисляете показатели степени больших чисел, некоторые числа могут стать бесконечными. Этого можно избежать, разделив числитель и знаменатель на $e^{\\max(y)}$: \n",
        "$$\n",
        "\\frac{e^{y_i-\\max(y)}}{\\sum_j e^{y_j - \\max(y) )}}.\n",
        "$$ \n",
        "После этого преобразования максимальное значение в знаменателе будет равно единице. Все остальные члены будут вносить меньшие значения. Итак, чтобы вычислить нужную формулу, вы сначала вычитаете максимальное значение из каждой компоненты в векторе $\\mathbf{y}$, а затем вычисляете все остальное, как и раньше.\n"
      ],
      "id": "cf85823b"
    },
    {
      "cell_type": "markdown",
      "metadata": {
        "id": "adebf767"
      },
      "source": [
        "## Задание 2: реализовать E-шаг"
      ],
      "id": "adebf767"
    },
    {
      "cell_type": "code",
      "execution_count": null,
      "metadata": {
        "id": "d3181ca5"
      },
      "outputs": [],
      "source": [
        "\n",
        "\n",
        "def E_step(X, pi, mu):       \n",
        "    eps = 1e-12\n",
        "    def G_c_i(xi, pc, mc):\n",
        "        return xi @ np.log(mc + eps) + (1 - xi) @ np.log(1 + eps - mc) + np.log(pc + eps)\n",
        "\n",
        "    \"\"\"\n",
        "    Performs E-step on GMM model\n",
        "    Each input is numpy array:\n",
        "    X: (D x N), data points\n",
        "    pi: (C), mixture component weights \n",
        "    mu: (C x N), mixture component means\n",
        "    \n",
        "    Returns:\n",
        "    gamma: (C x D), probabilities of clusters for objects\n",
        "    \"\"\"\n",
        "    D = X.shape[0] # number of objects\n",
        "    C = pi.shape[0] # number of clusters\n",
        "    N = mu.shape[1] # dimension of each object\n",
        "    gamma = np.zeros((C, D)) # distribution q(T)\n",
        "    log_g = np.zeros((C, D))\n",
        "    M = np.array([-1e6] * D)\n",
        "\n",
        "    print('\\tDefine log(g_c_i)')\n",
        "    log_g = np.array(list(map(lambda c: np.array(list(map(lambda x: G_c_i(x, pi[c[0]], mu[c[0]]), X))), list(enumerate(log_g)))))\n",
        "    gc.collect()\n",
        "    for c in range(C):\n",
        "        M = np.array(list(map(lambda x: x[1] if x[1] >= log_g[c][x[0]] else log_g[c][x[0]], list(enumerate(M))))) \n",
        "    gc.collect()\n",
        "\n",
        "    print('\\tDefine gamma')\n",
        "\n",
        "    gamma = gamma.T\n",
        "    for i in range(D):\n",
        "        gamma[i] = np.exp(log_g.T[i] - M[i])\n",
        "        gamma[i] = gamma[i] / (gamma[i].sum() +  eps)\n",
        "\n",
        "    gc.collect()\n",
        "    \n",
        "    #TO DO\n",
        "    return gamma.T"
      ],
      "id": "d3181ca5"
    },
    {
      "cell_type": "markdown",
      "metadata": {
        "id": "496916bb"
      },
      "source": [
        "## Задание 3:  получить выражения для M-шаг\n",
        "\n",
        "\n",
        "$$\n",
        "{\\cal L}(\\theta,q) = \\sum_i\\sum_c \\gamma_{i,c}\\left(\\sum_{j=1}^N x_{ij}\\log(\\mu_{cj}) + (1-x_{ij})\\log(1-\\mu_{cj})+ \\log\\pi_c\\right) \\to \\max_{\\theta}\n",
        "$$\n",
        "\n",
        "Составить функцию Лагранжа и получить выражения для $\\theta$."
      ],
      "id": "496916bb"
    },
    {
      "cell_type": "markdown",
      "metadata": {
        "id": "4167efb8"
      },
      "source": [
        "## Задание 4: реализовать M-шаг"
      ],
      "id": "4167efb8"
    },
    {
      "cell_type": "code",
      "execution_count": null,
      "metadata": {
        "colab": {
          "base_uri": "https://localhost:8080/"
        },
        "id": "3a6a0821",
        "outputId": "d4014e82-c53b-4c44-b5c3-7aae61816ad3"
      },
      "outputs": [
        {
          "data": {
            "text/plain": [
              "1"
            ]
          },
          "execution_count": 11,
          "metadata": {},
          "output_type": "execute_result"
        }
      ],
      "source": [
        "np.array([1]).sum()"
      ],
      "id": "3a6a0821"
    },
    {
      "cell_type": "code",
      "execution_count": null,
      "metadata": {
        "id": "0388d07b"
      },
      "outputs": [],
      "source": [
        "def M_step(X, gamma):\n",
        "    \"\"\"\n",
        "    Performs E-step on GMM model\n",
        "    Each input is numpy array:\n",
        "    X: (D x N), data points\n",
        "    gamma: (C x D), probabilities of clusters for objects\n",
        "    Returns:\n",
        "    pi: (C)\n",
        "    mu: (C x N)\n",
        "    \"\"\"\n",
        "    D = X.shape[0] # number of objects\n",
        "    C = gamma.shape[0] # number of clusters\n",
        "    N = X.shape[1] # dimension of each object\n",
        "    eps = 1e-12\n",
        "    #TO DO\n",
        "    pi = np.zeros(C)\n",
        "    mu = np.zeros((C, N))\n",
        "    # for c in range(C):\n",
        "    #     pi[c] = gamma[c].sum() / (gamma.sum() + eps)\n",
        "    #     for j in range(N):\n",
        "    #         mu[c][j] = (gamma[c] @  X.T[j]) / (gamma[c].sum() + eps)\n",
        "    g_summ = (gamma.sum() + eps)\n",
        "    for c in range(C):\n",
        "        g_c_summ = gamma[c].sum()\n",
        "        pi[c] = g_c_summ / g_summ\n",
        "        for j in range(N):\n",
        "            mu[c][j] = (gamma[c] @  X.T[j]) / (g_c_summ + eps)\n",
        "    \n",
        "    gc.collect()\n",
        "    return pi, mu"
      ],
      "id": "0388d07b"
    },
    {
      "cell_type": "markdown",
      "metadata": {
        "id": "3398523a"
      },
      "source": [
        "## Задание 5: получить функцию потерь"
      ],
      "id": "3398523a"
    },
    {
      "cell_type": "markdown",
      "metadata": {
        "id": "3c0f0219"
      },
      "source": [
        "Наконец, нам нужна функция для отслеживания сходимости. Для этой цели мы будем использовать вариационную нижнюю границу $\\mathcal{L}$. Мы остановим наши итерации EM, когда $\\mathcal{L}$ перестанет сильно изменяться.  Также полезно проверить, что эта функция никогда не уменьшается во время тренировки. Если это так, у вас есть ошибка в вашем коде.\n",
        "\n",
        "<b>Реализуем функцию, которая будет вычислять $\\mathcal{L}$</b> \n",
        "\n",
        "$$\\mathcal{L}(\\theta, q) =\\mathbb{E}_{q(T)}\\log \\frac{p(X,T | \\theta)}{q(T|\\theta)}  =  \\dots$$ "
      ],
      "id": "3c0f0219"
    },
    {
      "cell_type": "markdown",
      "metadata": {
        "id": "8f4caad8"
      },
      "source": [
        "## Задание 6: реализовать функцию потерь"
      ],
      "id": "8f4caad8"
    },
    {
      "cell_type": "markdown",
      "metadata": {
        "id": "084b936b"
      },
      "source": [
        "Не забываем использовать <b>трюк 1</b>."
      ],
      "id": "084b936b"
    },
    {
      "cell_type": "markdown",
      "metadata": {
        "id": "c18442f4"
      },
      "source": [
        "\n",
        "$$\n",
        "{\\cal L}(\\theta,q) = \\sum_c\\sum_i \\gamma_{c,i}\\left(\\sum_{j=1}^N x_{ij}\\log(\\mu_{cj}) + (1-x_{ij})\\log(1-\\mu_{cj})\\right)+ \\log\\pi_c \\to \\max_{\\theta}\n",
        "$$\n",
        "\n"
      ],
      "id": "c18442f4"
    },
    {
      "cell_type": "code",
      "execution_count": null,
      "metadata": {
        "id": "c5d52039"
      },
      "outputs": [],
      "source": [
        "def compute_vlb(X, pi, mu, gamma):\n",
        "    \"\"\"\n",
        "    Each input is numpy array:\n",
        "    X: (D x N), data points\n",
        "    gamma: (C x D), distribution q(T)  \n",
        "    pi: (C)\n",
        "    mu: (C x N)\n",
        "    sigma: (C x N x N)\n",
        "    \n",
        "    Returns value of variational lower bound\n",
        "    \"\"\"\n",
        "    D = X.shape[0] # number of objects\n",
        "    C = gamma.shape[0] # number of clusters\n",
        "    N = X.shape[1] # dimension of each object\n",
        "    eps =1e-9\n",
        "    #TO DO\n",
        "\n",
        "    # loss = 0\n",
        "    # for c in range(C):\n",
        "    #     for i in range(D):\n",
        "    #         sum_ = 0\n",
        "    #         for j in range(N):\n",
        "    #             sum_ += X[i][j] * np.log(mu[c][j] + eps) + (1 - X[i][j]) * np.log(1 - mu[c][j] + eps)\n",
        "\n",
        "    #         loss += sum_+ np.log(pi[c] + eps)\n",
        "    loss = 0\n",
        "    thr = 0.45 + (n - 1) / 100 # Номер варианта см. список группы\n",
        "    X_val = X.copy()\n",
        "    mu_val = mu.copy()\n",
        "    X_val[X > thr] = 1\n",
        "    X_val[X < thr] = 0\n",
        "    mu_val[mu > thr] = 1\n",
        "    mu_val[mu < thr] = 0\n",
        "    for c in range(C):\n",
        "        for i in range(D):\n",
        "            loss = X_val[i] @ np.log(mu_val[c] + eps) + (1 - X_val[i]) @ np.log(1 - eps + mu_val[c])\n",
        "        loss +=  np.log(pi[c] + eps)\n",
        "\n",
        "\n",
        "    gc.collect()\n",
        "\n",
        "    return loss"
      ],
      "id": "c5d52039"
    },
    {
      "cell_type": "markdown",
      "metadata": {
        "id": "66c07878"
      },
      "source": [
        "## Задание 7: внедрение процедуры обучения"
      ],
      "id": "66c07878"
    },
    {
      "cell_type": "markdown",
      "metadata": {
        "id": "6263f29b"
      },
      "source": [
        "Теперь, когда у нас есть шаг E, шаг M и VLB, мы можем реализовать тренировочный цикл. Мы будем инициализировать значения $\\pi$, $\\mu$ и $\\Sigma$ некоторыми случайными числами, обучать до тех пор, пока $\\mathcal{L}$ не перестанет меняться, и возвращать полученные точки. Мы также знаем, что алгоритм EM сходится к локальным оптимумам. Чтобы найти лучшие локальные оптимумы, мы перезапустим алгоритм несколько раз с разных (случайных) начальных позиций. Каждое тренировочное испытание должно останавливаться либо при достижении максимального количества итераций, либо когда относительное улучшение становится меньше заданного допуска $$\\left|\\frac{\\mathcal{L}_i-\\mathcal{L}_{i-1}}{\\mathcal {L}_{i-1}}\\right| \\le \\text{rtol}$$.\n",
        "\n",
        "<b>Начальные данные:</b>\n",
        "Параметры $\\pi_c$ можно задавать одинаковыми, при это не забываем, что сумма равна единице.  Параметры $\\mu$ можно моделировать равномерно на отрезке [0.25, 0.75], далее их надо отнормировать.\n",
        "\n",
        "Также в код можно добавить обработку ситуации, когда целевая функция возвращает nan."
      ],
      "id": "6263f29b"
    },
    {
      "cell_type": "code",
      "execution_count": null,
      "metadata": {
        "id": "542e9d95"
      },
      "outputs": [],
      "source": [
        "def rand_pi(C):\n",
        "    #TO DO\n",
        "    pic = np.random.uniform(0.25, 0.75, size=(C))\n",
        "    return pic / pic.sum()\n",
        "\n",
        "\n",
        "def rand_mu(X, C, N):\n",
        "    #print('\\n', type(X), '\\n', type(C), '\\n', type(N))\n",
        "    mu = np.abs(np.random.uniform(0.25, 0.75, size=(C, N)))\n",
        "    mu /= mu.sum()\n",
        "    # TO DO\n",
        "    return mu\n",
        "\n",
        "\n",
        "\n",
        "def evaluate_EM(X, mu, pi):\n",
        "    gamma = E_step(X, pi, mu)\n",
        "    return compute_vlb(X, pi, mu, gamma)\n",
        "\n",
        "\n",
        "def train_EM(X, C=10, rtol=1e-3, max_iter=10, restarts=10):\n",
        "    '''\n",
        "    Starts with random initialization *restarts* times\n",
        "    Runs optimization until saturation with *rtol* reached\n",
        "    or *max_iter* iterations were made.\n",
        "    \n",
        "    X: (D, N), data points\n",
        "    C: int, number of clusters\n",
        "    '''\n",
        "\n",
        "    X_train, _, X_test, _ = train_test_split(X, X)\n",
        "\n",
        "    N = X.shape[0] # number of objects\n",
        "    d = X.shape[1] # dimension of each object\n",
        "    print(N, '\\n', d)\n",
        "    best_loss = None\n",
        "    best_pi = None\n",
        "    best_mu = None\n",
        "    best_sigma = None\n",
        "    loss_prev = None\n",
        "    losses = {'train':[], 'test':[]}\n",
        "    \n",
        "    X = X_train\n",
        "\n",
        "    for _ in range(restarts):\n",
        "        train_losses = []\n",
        "        test_losses = []\n",
        "        print('New restart')\n",
        "        loss = None\n",
        "        curr_rel_loss = None\n",
        "        pi0 = rand_pi(C)\n",
        "        mu0 = rand_mu(X, C, d) \n",
        "        loss = None\n",
        "        for i in range(max_iter):\n",
        "            gc.collect()\n",
        "            pi, mu = pi0, mu0\n",
        "            print('\\nRun E - step')\n",
        "            gamma = E_step(X, pi, mu)\n",
        "            print('Run M - step')\n",
        "            pi, mu  = M_step(X, gamma)\n",
        "            print('Define Loss')\n",
        "            loss = compute_vlb(X, pi, mu, gamma)\n",
        "            print(f'Loss {loss:.2f}\\n')\n",
        "            train_losses.append(loss)\n",
        "            test_losses.append(evaluate_EM(X_test, mu, pi))\n",
        "            pi0 = pi\n",
        "            mu0 = mu\n",
        "            if loss_prev != None:\n",
        "                curr_rel_loss = np.abs(loss_prev - loss)/np.abs(loss_prev)\n",
        "                loss_prev = loss\n",
        "            else:\n",
        "                loss_prev = loss\n",
        "            if curr_rel_loss!=None and curr_rel_loss < rtol:\n",
        "                break\n",
        "            print(f'Step: {i}')\n",
        "        if best_loss!=None:\n",
        "            if loss>best_loss:\n",
        "                best_loss = loss\n",
        "                best_mu = mu\n",
        "                best_pi = pi\n",
        "        else:\n",
        "            best_loss = loss\n",
        "            best_mu = mu\n",
        "            best_pi = pi\n",
        "        losses['train'].append(train_losses)\n",
        "        losses['test'].append(test_losses)\n",
        "    return  losses, best_pi, best_mu\n",
        "\n",
        "\n",
        "\n",
        "    \n"
      ],
      "id": "542e9d95"
    },
    {
      "cell_type": "code",
      "execution_count": null,
      "metadata": {
        "colab": {
          "base_uri": "https://localhost:8080/"
        },
        "id": "dbdf84ed",
        "outputId": "e6eef55b-112f-4628-f01f-365d48d57406"
      },
      "outputs": [
        {
          "name": "stdout",
          "output_type": "stream",
          "text": [
            "CPU times: user 4 µs, sys: 1 µs, total: 5 µs\n",
            "Wall time: 9.3 µs\n"
          ]
        }
      ],
      "source": [
        "%%time\n",
        "#losses, pi, mu = train_EM(np.array([X_train.reshape(-1, 28*28)[0]]), restarts= 2)"
      ],
      "id": "dbdf84ed"
    },
    {
      "cell_type": "code",
      "execution_count": null,
      "metadata": {
        "id": "SFOXd4Bf0IuQ"
      },
      "outputs": [],
      "source": [
        "#plt.imshow(mu[0].reshape(28,28))"
      ],
      "id": "SFOXd4Bf0IuQ"
    },
    {
      "cell_type": "markdown",
      "metadata": {
        "id": "16d038e8"
      },
      "source": [
        ""
      ],
      "id": "16d038e8"
    },
    {
      "cell_type": "markdown",
      "metadata": {
        "id": "545f21a5"
      },
      "source": [
        "## Задание 8\n",
        "\n",
        "Обучить модель и ответить на следующие вопросы.\n",
        "\n",
        "1. Построить графики для всех математических ожиданий в виде цифр (т.е. преобразовать вектора в матрицы) Похожи ли получившиеся средние на цифры? (С=10)\n",
        "2. Построить несколько картинок для цифр из обучающей выборки и соответствующих математических ожиданий на одном графике для одного класса. Проделать это для нескольких классов. Как можно интерпретировать результат?\n",
        "3. Разбить на обучающую и тестовую выборки, и определить оптимальное кол-во кластеров с помощью графиков правдоподобия для обучения и теста. \n",
        "4. Попробовать улучшить результат (варьировать различные параметры), подумать как оценивать качество.\n",
        "5. Написать вывод.\n"
      ],
      "id": "545f21a5"
    },
    {
      "cell_type": "code",
      "execution_count": null,
      "metadata": {
        "colab": {
          "base_uri": "https://localhost:8080/"
        },
        "id": "39ea4cd7",
        "outputId": "738d6972-54e7-4a64-d94f-b36161298aa6"
      },
      "outputs": [
        {
          "data": {
            "text/plain": [
              "(6000, 28, 28)"
            ]
          },
          "execution_count": 17,
          "metadata": {},
          "output_type": "execute_result"
        }
      ],
      "source": [
        "\n",
        "X_train_var = X_train[6000*(n-1): 6000*n]\n",
        "Y_train_var = y_train[6000*(n-1): 6000*n]\n",
        "X_train_var.shape"
      ],
      "id": "39ea4cd7"
    },
    {
      "cell_type": "code",
      "execution_count": null,
      "metadata": {
        "id": "43976964"
      },
      "outputs": [],
      "source": [
        "thr = 0.45 + (n - 1) / 100 # Номер варианта см. список группы\n",
        "X_train_var[X_train_var > thr] = 1\n",
        "X_train_var[X_train_var < thr] = 0"
      ],
      "id": "43976964"
    },
    {
      "cell_type": "code",
      "execution_count": null,
      "metadata": {
        "colab": {
          "base_uri": "https://localhost:8080/",
          "height": 531
        },
        "id": "d88547a1",
        "outputId": "06e8e4e5-24b7-4e46-deda-38117312169e"
      },
      "outputs": [
        {
          "data": {
            "image/png": "[encoded data removed]",
            "text/plain": [
              "<Figure size 432x288 with 1 Axes>"
            ]
          },
          "metadata": {},
          "output_type": "display_data"
        },
        {
          "data": {
            "text/plain": [
              "<matplotlib.axes._subplots.AxesSubplot at 0x7f0627c37b90>"
            ]
          },
          "execution_count": 19,
          "metadata": {},
          "output_type": "execute_result"
        },
        {
          "data": {
            "image/png": "[encoded data removed]",
            "text/plain": [
              "<Figure size 432x288 with 1 Axes>"
            ]
          },
          "metadata": {},
          "output_type": "display_data"
        }
      ],
      "source": [
        "plt.imshow(X_train_var[0])\n",
        "plt.show()\n",
        "sns.histplot(Y_train_var, bins = 10)"
      ],
      "id": "d88547a1"
    },
    {
      "cell_type": "code",
      "execution_count": null,
      "metadata": {
        "colab": {
          "base_uri": "https://localhost:8080/"
        },
        "id": "44a912e6",
        "outputId": "1125cb84-2a6d-4ac0-c0f5-7ce9dc7053be"
      },
      "outputs": [
        {
          "data": {
            "text/plain": [
              "(6000, 784)"
            ]
          },
          "execution_count": 20,
          "metadata": {},
          "output_type": "execute_result"
        }
      ],
      "source": [
        "X_train_var.reshape(-1, 28*28).shape"
      ],
      "id": "44a912e6"
    },
    {
      "cell_type": "code",
      "execution_count": null,
      "metadata": {
        "colab": {
          "background_save": true
        },
        "id": "b2c54240"
      },
      "outputs": [],
      "source": [
        "%%time\n",
        "losses, pi, mu = train_EM(X_train_var.reshape(-1, 28*28), restarts= 100, max_iter = 100, rtol = 1e-6)"
      ],
      "id": "b2c54240"
    },
    {
      "cell_type": "code",
      "execution_count": null,
      "metadata": {
        "id": "fff854de"
      },
      "outputs": [],
      "source": [
        "mu[mu > thr] = 1\n",
        "mu[mu < thr] = 0\n",
        "fig, ax = plt.subplots(len(mu), 1, figsize = (len(mu) * 20, 20))\n",
        "for i, v in enumerate(mu):\n",
        "    ax[i].imshow(v.reshape(28, 28))"
      ],
      "id": "fff854de"
    },
    {
      "cell_type": "code",
      "execution_count": null,
      "metadata": {
        "id": "01a51140"
      },
      "outputs": [],
      "source": [
        "X_test = X_train[1]\n",
        "plt.imshow(X_test)"
      ],
      "id": "01a51140"
    },
    {
      "cell_type": "code",
      "execution_count": null,
      "metadata": {
        "id": "a519c5c3"
      },
      "outputs": [],
      "source": [
        "gamma = E_step(np.array([X_test.reshape(28*28)]), pi, mu)\n",
        "\n",
        "new_pi, new_mu = M_step(np.array([X_train.reshape(-1, 28*28)[8]]), gamma)\n",
        "\n",
        "pred = mu[np.argmax(new_pi)].reshape(28, 28)\n",
        "pred[pred >= thr] = 1\n",
        "pred[pred < thr] = 0\n",
        "plt.imshow(pred)"
      ],
      "id": "a519c5c3"
    },
    {
      "cell_type": "code",
      "execution_count": null,
      "metadata": {
        "id": "vQq5DTem8DMc"
      },
      "outputs": [],
      "source": [
        "for i, line in enumerate(losses['train']):\n",
        "    plt.plot(np.arange(0, len(line)), line, label = 'Train Loss')\n",
        "    plt.plot(np.arange(0, len(line)), losses['test'][i], label = 'Test Loss')\n",
        "    plt.legend()"
      ],
      "id": "vQq5DTem8DMc"
    },
    {
      "cell_type": "code",
      "execution_count": null,
      "metadata": {
        "id": "B5fhSn8QeP3h"
      },
      "outputs": [],
      "source": [
        "losses['train']"
      ],
      "id": "B5fhSn8QeP3h"
    },
    {
      "cell_type": "code",
      "execution_count": null,
      "metadata": {
        "id": "-n92NXw5ekjS"
      },
      "outputs": [],
      "source": [
        ""
      ],
      "id": "-n92NXw5ekjS"
    }
  ],
  "metadata": {
    "colab": {
      "collapsed_sections": [],
      "name": "Копия блокнота \"lab_descr.ipynb\"",
      "provenance": []
    },
    "kernelspec": {
      "display_name": "Python 3 (ipykernel)",
      "language": "python",
      "name": "python3"
    },
    "language_info": {
      "codemirror_mode": {
        "name": "ipython",
        "version": 3
      },
      "file_extension": ".py",
      "mimetype": "text/x-python",
      "name": "python",
      "nbconvert_exporter": "python",
      "pygments_lexer": "ipython3",
      "version": "3.9.12"
    }
  },
  "nbformat": 4,
  "nbformat_minor": 5
}