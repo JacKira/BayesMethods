{
  "cells": [
    {
      "cell_type": "markdown",
      "metadata": {
        "id": "G233yNiDOnLp"
      },
      "source": [
        "# Google colab\n",
        "* Выбрвать **File -> Save a copy in Drive**, нажмите **Open in new tab** во всплывающем окне, чтобы сохранить свой прогресс на Google Диске.\n",
        "* Нажмите **Runtime -> Change runtime type** и выберите **GPU** в поле Аппаратный ускоритель (Hardware accelerator), чтобы включить ускоренное обучение на графической карте (GPU)"
      ]
    },
    {
      "cell_type": "markdown",
      "metadata": {
        "id": "74KEu1L8OnLq"
      },
      "source": [
        "# Вариационный автокодировщик"
      ]
    },
    {
      "cell_type": "markdown",
      "metadata": {
        "id": "r94_BRA-OnLr"
      },
      "source": [
        "Здесь мы создадим вариационный автокодировщик (autoencoder), обучите его на наборе данных MNIST и поиграете с его архитектурой и гиперпараметрами."
      ]
    },
    {
      "cell_type": "markdown",
      "metadata": {
        "id": "LyLQLqBcOnLt"
      },
      "source": [
        "\n",
        "### Настройка\n",
        "Загрузка вспомогательных файлов и импорт необходимых библиотек."
      ]
    },
    {
      "cell_type": "code",
      "execution_count": 1,
      "metadata": {
        "id": "MqsXAwczlQNp"
      },
      "outputs": [],
      "source": [
        "#%pip install tensorflow"
      ]
    },
    {
      "cell_type": "code",
      "execution_count": 2,
      "metadata": {
        "id": "H-hJ6_wBOnLz"
      },
      "outputs": [],
      "source": [
        "import tensorflow as tf\n",
        "import keras\n",
        "import numpy as np\n",
        "import matplotlib.pyplot as plt\n",
        "\n",
        "from keras.layers import Input, Dense, Lambda, InputLayer, concatenate, BatchNormalization\n",
        "from keras.models import Model, Sequential\n",
        "from keras import metrics\n",
        "from keras.datasets import mnist\n",
        "from keras.utils import np_utils\n",
        "\n",
        "import tensorflow.compat.v1.keras.backend as K\n",
        "import tensorflow as tf\n",
        "tf.compat.v1.disable_eager_execution()"
      ]
    },
    {
      "cell_type": "markdown",
      "metadata": {
        "id": "RnkOQUeSOnL5"
      },
      "source": [
        "### Вариационный автокодировщик"
      ]
    },
    {
      "cell_type": "markdown",
      "metadata": {
        "id": "GmV9OxiIOnL7"
      },
      "source": [
        "Напомним, что вариационный автоэнкодер — это вероятностная модель данных, основанная на непрерывной смеси распределений. В лекции мы рассмотрели случай смеси гауссиан, но здесь мы применим ВА (VAE) к бинарным изображениям MNIST (каждый пиксель либо черный, либо белый). Чтобы лучше моделировать двоичные данные, мы будем использовать непрерывную смесь биномиальных распределений: $$p(x \\mid w) = \\int p(x \\mid t, w) p(t) dt,$$ где априорное распределение скрытой переменной $t$ — стандартное нормальное $p(t) = \\mathcal{N}(t\\mid 0, I)$, но вероятность того, что $(i, j)$-й пиксель черный, равна $(i, j)$-му выходу нейронной сети декодера: $$p(x_{i, j} \\mid t, w) = \\text{decoder}(t, w)_{i, j}.$$\n",
        "\n",
        "Чтобы обучить эту модель, мы хотели бы максимизировать неполное логарифмическое правдоподобие нашего набора данных $$\\max_w \\log p(X \\mid w),$$ но это очень сложно сделать в вычислительном отношении, поэтому вместо этого мы максимизируем вариационную нижнюю границу  как для исходных параметров $w$, так и для распределений $q$, которое мы определяем как кодирующую нейронную сеть (encoder) с параметрами (весами) $\\phi$, которая принимает входное изображение $x$ и выводит параметры гауссовского распределения $$q(t \\mid x, \\phi ): \\log p(X \\mid w) \\geq \\mathcal{L}(w, \\phi) \\rightarrow \\max_{w, \\phi}.$$\n",
        "\n",
        "Итак, в целом наша модель выглядит следующим образом: кодировщик (encoder) берет изображение $x$, выдает распределение по скрытым кодам $q(t\\mid x)$, которое должно аппроксимировать апостериорное распределение $p(t\\mid x)$ (по крайней мере, после обучения), моделирует точку из этого распределения $\\widehat{t} \\sim q(t \\mid x, \\phi)$ и, наконец, передает ее в декодер, который выводит распределение над изображениями.\n",
        "\n",
        "![](https://github.com/hse-aml/bayesian-methods-for-ml/blob/master/week5/VAE.png?raw=1)\n",
        "\n",
        "В лекции мы также обсудили, что вариационная нижняя граница имеет математическое ожидание, которое мы собираемся аппроксимировать усреднением по выборкам. Но это не тривиально, поскольку нам нужно дифференцировать это приближение. Тем не менее, мы узнали о трюке _репараметризации_, который предлагает вместо выборки из распределения $\\widehat{t} \\sim q(t \\mid x, \\phi)$ брать выборку из распределения, которое не зависит ни от каких параметров, например, стандартное нормальное, а затем детерминистически преобразовать эту выборку в нужную: $$\\varepsilon \\sim \\mathcal{N}(0, I),\\quad \\widehat{t} = m(x, \\phi) + \\varepsilon \\sigma(x, \\phi).$$ Таким образом, нам не нужно беспокоиться о смещении нашего стохастического градиента, и мы можем напрямую дифференцировать нашу функцию потерь  по всем параметрам, считая текущую выборку $\\varepsilon$ постоянной.\n",
        "\n"
      ]
    },
    {
      "cell_type": "markdown",
      "metadata": {
        "id": "VMuhWEYBOnMt"
      },
      "source": [
        "# Условный VAE"
      ]
    },
    {
      "cell_type": "markdown",
      "metadata": {
        "id": "ly1YYFktOnMu"
      },
      "source": [
        "В последнем задании мы изменним свой код, чтобы получить условный вариационный автоэнкодер [1]. Идея очень проста: чтобы иметь возможность контролировать сгенерированные вами выборки, мы обусловливаем все распределения некоторой дополнительной информацией. В нашем случае этой дополнительной информацией будет метка класса (цифра на изображении, от 0 до 9).\n",
        "\n",
        "![](https://github.com/hse-aml/bayesian-methods-for-ml/blob/master/week5/CVAE.png?raw=1)\n",
        "\n",
        "Итак, теперь и вероятность, и вариационное распределение зависят от метки класса: $p(x \\mid t, \\text{label}, w)$, $q(t \\mid x, \\text{label}, \\phi )$.\n",
        "\n",
        "Единственное, что вам нужно изменить в своем коде, это объединить входное изображение $x$ с (one-hot) меткой этого изображения для передачи в кодировщик $q$ и объединить скрытую переменную $t$ с той же меткой для передачи в декодер $p$. Обратите внимание, что это немного сложнее сделать со сверточной моделью кодера/декодера.\n",
        "\n",
        "[1] Sohn, Kihyuk, Honglak Lee, and Xinchen Yan. “Learning Structured Output Representation using Deep Conditional Generative Models.” Advances in Neural Information Processing Systems. 2015."
      ]
    },
    {
      "cell_type": "markdown",
      "metadata": {
        "id": "0GPFxR6cOnNV"
      },
      "source": [
        "# Лабораторная работа №2\n",
        "Измените приведенный выше код для работы со смесью распределений Гаусса (в отличие от смеси биномиальных распределений) и повторите эксперименты с набором данных CIFAR-10, которые представляют собой полноцветные естественные изображения с гораздо более разнообразной структурой."
      ]
    },
    {
      "cell_type": "markdown",
      "source": [
        "### Задача 1 \n",
        "Получим вариационную нижнюю границу для непрерывной смеси распределений Гаусса.\n",
        "$$\n",
        "{\\cal L(w,q)} = VLB =   \\sum_{i=1}^N \\text{VLB}_i =  \\sum_i\\mathbf{M}_{q_i}\\log\\frac{p(x_i\\mid t_i, w) p(t_i)}{q_{i}(t_i)} = \\sum_i \\mathbf{M}_{q_i} \\log p(x_i\\mid t_i, w)  +  \\underbrace{\\mathbf{M}_{q_i}\\log \\frac{p(t_i)}{q_i(t_i)}}_{-D_{kl}(q_i(t_i)|| p(t_i))}\n",
        "$$\n",
        "$$\n",
        "\\begin{align*}\n",
        "D_{kl}(q_i(t_i)|| p(t_i)) &= \n",
        "\\\\\n",
        "&=\\sum_{j=1}^M\\left(-\\log\\sigma(t_i) + \\frac{\\sigma^2(t_i) +\\mu^2(t_i)-1}{2}\\right) = M\\left(-\\log\\sigma(t_i) + \\frac{\\sigma^2(t_i) +\\mu^2(t_i)-1}{2}\n",
        "\\right)\n",
        "\\end{align*}\n",
        "$$\n",
        "Первый член в выражении для ${\\cal L(w,q)}$:\n",
        "\\begin{align*}\n",
        "\\sum_i\\mathbf{M}_{q_i}\\log p(x_i\\mid t_i, w)  = \n",
        "\\sum_i \\int q_i(t_i)\\log \\prod_j \\sqrt{\\frac{1}{2πσ^2(t_i)}}e^{-\\frac{(x_{ij}-μ(t_i))^2}{2σ^2(t_i)}} =\n",
        "\\sum_i(M_{q_i}[-\\frac{N}{2}\\log(2πσ^2(t_i))] -  M_{q_i}[\\frac{{\\lVert x_{i}-μ(t_i)}\\rVert^2}{2σ^2(t_i)}])\n",
        "\\end{align*}\n",
        "Получаем:\n",
        "$$\n",
        "VLB_i =\\mathbf{M}_{q_i}\\left\\{\\sum_i(-\\frac{N}{2}\\log(2πσ^2(t_i)) - \\frac{{\\lVert x_{ij}-μ(t_i)}\\rVert^2}{2σ^2(t_i)}) + M\\left(-\\log\\sigma(t_i) + \\frac{\\sigma^2(t_i) +\\mu^2(t_i)-1}{2}\\right)\\right\\}\n",
        "$$"
      ],
      "metadata": {
        "id": "PUu09jqY4SeS"
      }
    },
    {
      "cell_type": "code",
      "source": [
        "import tensorflow as tf\n",
        "import keras\n",
        "import numpy as np\n",
        "import matplotlib.pyplot as plt\n",
        "\n",
        "from keras.layers import Input, Dense, Lambda, InputLayer, concatenate, BatchNormalization, Dropout\n",
        "from keras.models import Model, Sequential\n",
        "from keras import metrics\n",
        "from keras.datasets import mnist\n",
        "from keras.utils import np_utils\n",
        "\n",
        "import tensorflow.compat.v1.keras.backend as K\n",
        "import tensorflow as tf\n",
        "tf.compat.v1.disable_eager_execution()"
      ],
      "metadata": {
        "id": "zwO7iRg7alm5"
      },
      "execution_count": 3,
      "outputs": []
    },
    {
      "cell_type": "code",
      "source": [
        "tf.__version__"
      ],
      "metadata": {
        "colab": {
          "base_uri": "https://localhost:8080/",
          "height": 35
        },
        "id": "eUrScYEVviWT",
        "outputId": "dae88537-3793-477c-d80d-29ad308a222e"
      },
      "execution_count": 4,
      "outputs": [
        {
          "output_type": "execute_result",
          "data": {
            "text/plain": [
              "'2.8.2'"
            ],
            "application/vnd.google.colaboratory.intrinsic+json": {
              "type": "string"
            }
          },
          "metadata": {},
          "execution_count": 4
        }
      ]
    },
    {
      "cell_type": "code",
      "source": [
        "# Start tf session so we can run code.\n",
        "#sess = tf.InteractiveSession()\n",
        "sess=tf.compat.v1.InteractiveSession()\n",
        "# Connect keras to the created session.\n",
        "K.set_session(sess)"
      ],
      "metadata": {
        "id": "dsz5vSmwal90"
      },
      "execution_count": 5,
      "outputs": []
    },
    {
      "cell_type": "code",
      "execution_count": 6,
      "metadata": {
        "id": "W-Gv4MoqOnNW",
        "colab": {
          "base_uri": "https://localhost:8080/"
        },
        "outputId": "51401e34-39c8-4231-82a5-a9351a5205b3"
      },
      "outputs": [
        {
          "output_type": "stream",
          "name": "stdout",
          "text": [
            "Downloading data from https://www.cs.toronto.edu/~kriz/cifar-10-python.tar.gz\n",
            "170500096/170498071 [==============================] - 6s 0us/step\n",
            "170508288/170498071 [==============================] - 6s 0us/step\n"
          ]
        }
      ],
      "source": [
        "from keras.datasets import cifar10\n",
        "from PIL import Image\n",
        "(x_train, y_train), (x_test, y_test) = cifar10.load_data()\n",
        "w_dim = x_train[0].shape[0]\n",
        "h_dim = x_train[0].shape[1]\n",
        "c_dim = x_train[0].shape[2]"
      ]
    },
    {
      "cell_type": "code",
      "source": [
        "print(x_train[0].shape)"
      ],
      "metadata": {
        "colab": {
          "base_uri": "https://localhost:8080/"
        },
        "id": "haLwW4Hyvvw-",
        "outputId": "2806e163-14b4-4148-d624-6e595a64a998"
      },
      "execution_count": 7,
      "outputs": [
        {
          "output_type": "stream",
          "name": "stdout",
          "text": [
            "(32, 32, 3)\n"
          ]
        }
      ]
    },
    {
      "cell_type": "code",
      "source": [
        "plt.imshow(x_test[7, :])\n",
        "plt.show()"
      ],
      "metadata": {
        "colab": {
          "base_uri": "https://localhost:8080/",
          "height": 266
        },
        "id": "WHa85E9x0PPh",
        "outputId": "628bd1c5-cc3b-41e0-f51c-1c21b1861a4a"
      },
      "execution_count": 8,
      "outputs": [
        {
          "output_type": "display_data",
          "data": {
            "text/plain": [
              "<Figure size 432x288 with 1 Axes>"
            ],
            "image/png": "[encoded data removed]"
          },
          "metadata": {
            "needs_background": "light"
          }
        }
      ]
    },
    {
      "cell_type": "code",
      "source": [
        "y_train = np_utils.to_categorical(y_train)\n",
        "y_test = np_utils.to_categorical(y_test)\n",
        "\n",
        "\n",
        "x_train_ = x_train.astype('float32') / 255.\n",
        "x_test_ = x_test.astype('float32') / 255.\n",
        "\n",
        "\n",
        "x_train_ = x_train_.reshape(-1, w_dim * h_dim * c_dim)\n",
        "x_test_ = x_test_.reshape(-1, w_dim * h_dim * c_dim)"
      ],
      "metadata": {
        "id": "Xg9FUo7UW4IU"
      },
      "execution_count": 9,
      "outputs": []
    },
    {
      "cell_type": "code",
      "source": [
        "x_train_[0]"
      ],
      "metadata": {
        "colab": {
          "base_uri": "https://localhost:8080/"
        },
        "id": "C5sx-T2HsTDF",
        "outputId": "31f03cd1-2d6d-4d1d-efe4-867223cdfa85"
      },
      "execution_count": 10,
      "outputs": [
        {
          "output_type": "execute_result",
          "data": {
            "text/plain": [
              "array([0.23137255, 0.24313726, 0.24705882, ..., 0.48235294, 0.36078432,\n",
              "       0.28235295], dtype=float32)"
            ]
          },
          "metadata": {},
          "execution_count": 10
        }
      ]
    },
    {
      "cell_type": "code",
      "source": [
        "x_train_.shape"
      ],
      "metadata": {
        "colab": {
          "base_uri": "https://localhost:8080/"
        },
        "id": "yCZHqM1Z3bQ4",
        "outputId": "4a3e4013-0d06-4270-a78f-89b82cdc1f9d"
      },
      "execution_count": 11,
      "outputs": [
        {
          "output_type": "execute_result",
          "data": {
            "text/plain": [
              "(50000, 3072)"
            ]
          },
          "metadata": {},
          "execution_count": 11
        }
      ]
    },
    {
      "cell_type": "code",
      "source": [
        "y_test.shape"
      ],
      "metadata": {
        "colab": {
          "base_uri": "https://localhost:8080/"
        },
        "id": "kx8WfXpn3qQk",
        "outputId": "f300ea60-b8c9-4315-c2c3-ef6ced6969fc"
      },
      "execution_count": 12,
      "outputs": [
        {
          "output_type": "execute_result",
          "data": {
            "text/plain": [
              "(10000, 10)"
            ]
          },
          "metadata": {},
          "execution_count": 12
        }
      ]
    },
    {
      "cell_type": "markdown",
      "metadata": {
        "id": "MywUPlKzJM37"
      },
      "source": [
        "## Определение Encoder / decoder "
      ]
    },
    {
      "cell_type": "markdown",
      "metadata": {
        "id": "ikty0N9NJM38"
      },
      "source": [
        "**Задание 2**  Ниже приведен код, который  определяет энкодер и декодер, и реализуйт выборку с приемом репараметризации в предоставленном пространстве."
      ]
    },
    {
      "cell_type": "code",
      "source": [
        "master_batch_size = 100\n",
        "batch_size = master_batch_size\n",
        "original_dim = x_train_.shape[1] # Number of pixels in  images.\n",
        "latent_dim = 10 # d, dimensionality of the latent code t.\n",
        "intermediate_dim = 256 # Size of the hidden layer.\n",
        "epochs = 50\n",
        "\n",
        "x = Input(batch_shape=(batch_size, original_dim))\n",
        "\n",
        "\n",
        "def create_encoder(input_dim):\n",
        "    # Encoder network.\n",
        "    # We instantiate these layers separately so as to reuse them later\n",
        "    encoder = Sequential(name='encoder')\n",
        "    encoder.add(InputLayer([input_dim], name = 'Inpute_encoder'))\n",
        "   # encoder.add(BatchNormalization())\n",
        "    encoder.add(Dense(intermediate_dim, activation='relu', kernel_initializer=tf.keras.initializers.GlorotNormal(), name = 'intermediate_dim_encoder'))\n",
        "    # encoder.add(Dense(intermediate_dim // 2, activation='relu', kernel_initializer=tf.keras.initializers.GlorotNormal(), name = 'intermediate_dim_2_encoder'))\n",
        "    # encoder.add(Dense(intermediate_dim // 4, activation='relu', kernel_initializer=tf.keras.initializers.GlorotNormal(), name = 'intermediate_dim_4_encoder'))\n",
        "    encoder.add(Dense(2 * latent_dim, kernel_initializer=tf.keras.initializers.GlorotNormal()))\n",
        "    return encoder\n",
        "\n",
        "    \n",
        "encoder = create_encoder(original_dim)\n",
        "\n",
        "get_t_mean = Lambda(lambda h: h[:, :latent_dim])\n",
        "get_t_log_var = Lambda(lambda h: h[:, latent_dim:])\n",
        "\n",
        "\n",
        "get_x_mean = Lambda(lambda h: h[:, :original_dim])\n",
        "get_x_var = Lambda(lambda h: h[:, original_dim:])\n",
        "\n",
        "\n",
        "h = encoder(x)\n",
        "t_mean = get_t_mean(h)\n",
        "t_log_var = get_t_log_var(h)\n",
        "\n",
        "# Sampling from the distribution \n",
        "#     q(t | x) = N(t_mean, exp(t_log_var))\n",
        "# with reparametrization trick.\n",
        "def sampling(args):\n",
        "    \"\"\"Returns sample from a distribution N(args[0], diag(args[1]))\n",
        "    \n",
        "    The sample should be computed with reparametrization trick.\n",
        "    \n",
        "    The inputs are tf.Tensor\n",
        "        args[0]: (batch_size x latent_dim) mean of the desired distribution\n",
        "        args[1]: (batch_size x latent_dim) logarithm of the variance vector of the desired distribution\n",
        "    \n",
        "    Returns:\n",
        "        A tf.Tensor of size (batch_size x latent_dim), the samples.\n",
        "    \"\"\"\n",
        "    t_mean, t_log_var = args\n",
        "    t_std = tf.exp(0.5*t_log_var)\n",
        "    #print(t_std)\n",
        "    eps = tf.random.normal(t_mean.shape, mean=0, stddev=1, dtype=tf.float32)*t_std + t_mean\n",
        "    return eps\n",
        "\n",
        "    # YOUR CODE HERE\n",
        "\n",
        "\n",
        "t = Lambda(sampling)([t_mean, t_log_var])\n",
        "\n",
        "def create_decoder(input_dim):\n",
        "    # Decoder network\n",
        "    # We instantiate these layers separately so as to reuse them later\n",
        "    decoder = Sequential(name='decoder')\n",
        "    decoder.add(InputLayer([input_dim], name = 'Inpute_decoder'))\n",
        "    # decoder.add(Dense(intermediate_dim // 4, activation='relu', kernel_initializer=tf.keras.initializers.GlorotNormal(), name = 'intermediate_dim_4_decoder'))\n",
        "    # decoder.add(Dense(intermediate_dim // 2, activation='relu', kernel_initializer=tf.keras.initializers.GlorotNormal(), name = 'intermediate_dim_2_decodder'))\n",
        "    decoder.add(Dense(intermediate_dim, activation='relu', kernel_initializer=tf.keras.initializers.GlorotNormal(), name = 'intermediate_dim_encoider'))\n",
        "    decoder.add(Dense(2*original_dim, activation='sigmoid', kernel_initializer=tf.keras.initializers.GlorotNormal()))\n",
        "    return decoder\n",
        "\n",
        "    \n",
        "decoder = create_decoder(latent_dim)\n",
        "x_decoded = decoder(t)\n",
        "x_decoded_mean = get_x_mean(x_decoded)\n",
        "x_decoded_var = get_x_var(x_decoded)\n"
      ],
      "metadata": {
        "id": "91jicC-t9wag"
      },
      "execution_count": 13,
      "outputs": []
    },
    {
      "cell_type": "code",
      "source": [
        "def vlb_binomial(x, x_decoded_mean,  x_decoded_var, t_mean, t_log_var):\n",
        "    \"\"\"Returns the value of negative Variational Lower Bound\n",
        "    \n",
        "    The inputs are tf.Tensor\n",
        "        x: (batch_size x number_of_pixels) matrix with one image per row with zeros and ones\n",
        "        x_decoded_mean: (batch_size x number_of_pixels) mean of the distribution p(x | t), real numbers from 0 to 1\n",
        "        t_mean: (batch_size x latent_dim) mean vector of the (normal) distribution q(t | x)\n",
        "        t_log_var: (batch_size x latent_dim) logarithm of the variance vector of the (normal) distribution q(t | x)\n",
        "    \n",
        "    Returns:\n",
        "        A tf.Tensor with one element (averaged across the batch), VLB\n",
        "    \"\"\"\n",
        "\n",
        "    #cce = tf.keras.losses.CategoricalCrossentropy(axis=1)\n",
        "    t_var =  tf.exp(t_log_var)\n",
        "    kl = -t_log_var/2.0 + (t_var + t_mean**2 - 1)/2.0\n",
        "    kl = tf.reduce_sum(kl, axis=1)\n",
        "    batch_size = x.shape[0]\n",
        "    number_of_pixels = x.shape[1]\n",
        "    latend_dim = t_mean.shape[1]\n",
        "\n",
        "    two_pi = tf.constant(2.0 * np.pi)      \n",
        "    #log_p = tf.keras.losses.binary_crossentropy(x, x_decoded_mean)                                                                                                                        \n",
        "    #log_p = -number_of_pixels/ 2.0 * tf.math.log(two_pi * tf.math.pow(x_decoded_var, 2.0) + 1e-6) -  tf.math.reduce_euclidean_norm(x_decoded_mean - x, axis=0) / (2.0 * tf.math.pow(x_decoded_var, 2.0)  + 1.0 * 1e-6)\n",
        "    log_p = -0.5 * (tf.math.log(two_pi) + tf.math.log(x_decoded_var + 1e-6) + tf.math.log(x_decoded_var + 1e-6) +  tf.math.divide_no_nan(tf.math.pow(tf.math.reduce_euclidean_norm(x_decoded_mean - x, axis=0), 2.0) , tf.math.pow(x_decoded_var, 2.0)) + 1.0 * 1e-6)\n",
        "    log_p = tf.reduce_sum(log_p, axis=1) \n",
        "\n",
        "    #result = tf.reduce_mean(number_of_pixels*log_p - kl) \n",
        "    result = tf.reduce_mean(log_p - kl) #* (x_train_.shape[0] / master_batch_size )\n",
        "    \n",
        "    print(\"batch_size = {}, number_of_pixels = {} kl_size = {}\".format(batch_size, number_of_pixels, kl.shape))\n",
        "    return tf.math.multiply_no_nan(result, tf.constant([-1.0]))"
      ],
      "metadata": {
        "id": "tJDDX4vY-Agp"
      },
      "execution_count": 14,
      "outputs": []
    },
    {
      "cell_type": "markdown",
      "metadata": {
        "id": "3RomMQ_HJUWa"
      },
      "source": [
        "## Обучение модели"
      ]
    },
    {
      "cell_type": "markdown",
      "metadata": {
        "id": "OORaYf9xJUWf"
      },
      "source": [
        "**Задание 3** Запустите указанные ниже ячейки, чтобы обучить модель с настройками по умолчанию. Измените параметры, чтобы получить лучшие результаты. Особенно обратите внимание на архитектуру кодировщика/декодера (например, использование большего количества слоев, возможно, сделав их сверточными), скорость обучения и количество эпох."
      ]
    },
    {
      "cell_type": "code",
      "source": [
        "loss = vlb_binomial(x, x_decoded_mean, x_decoded_var, t_mean, t_log_var)\n",
        "vae = Model(x, x_decoded_mean)\n",
        "tf.keras.utils.plot_model(vae,show_shapes = True)"
      ],
      "metadata": {
        "colab": {
          "base_uri": "https://localhost:8080/",
          "height": 662
        },
        "id": "4LsUPwqJ-DHv",
        "outputId": "bd31d1da-7b51-45e8-fce3-81e1e1790132"
      },
      "execution_count": 15,
      "outputs": [
        {
          "output_type": "stream",
          "name": "stdout",
          "text": [
            "batch_size = 100, number_of_pixels = 3072 kl_size = (100,)\n"
          ]
        },
        {
          "output_type": "execute_result",
          "data": {
            "text/plain": [
              "<IPython.core.display.Image object>"
            ],
            "image/png": "[encoded data removed]"
          },
          "metadata": {},
          "execution_count": 15
        }
      ]
    },
    {
      "cell_type": "code",
      "source": [
        "# hist = cvae.fit(x=[x_train_, y_train],\n",
        "#                 y=[x_train_, y_train],\n",
        "#                 shuffle=True,\n",
        "#                 epochs=epochs,\n",
        "#                 batch_size=batch_size,\n",
        "#                 validation_data=([x_test_, y_test], [x_test_,  y_test]),\n",
        "#                 verbose=2)\n",
        "\n",
        "# Keras will provide input (x) and output (x_decoded_mean) to the function that\n",
        "# should construct loss, but since our function also depends on other\n",
        "# things (e.g. t_means), it is easier to build the loss in advance and pass\n",
        "# a function that always returns it.\n",
        "vae.compile(optimizer=tf.keras.optimizers.RMSprop(learning_rate=0.001), loss=lambda x, y: loss)\n",
        "#vae.compile(optimizer=tf.keras.optimizers.Adam(learning_rate=0.001, beta_1=0.9, beta_2=0.999, epsilon=1e-07,\\\n",
        "#                amsgrad=False, name='Adam'), loss=lambda x, y: loss)\n",
        "\n",
        "save_filepath = '/tmp_cifar/checkpoint'\n",
        "\n",
        "hist = vae.fit(x=[x_train_, y_train],\n",
        "                y=x_train_,\n",
        "                shuffle=True,\n",
        "                epochs=20,\n",
        "                batch_size=batch_size,\n",
        "                validation_data=([x_test_, y_test], x_test_), verbose=1, callbacks = [tf.keras.callbacks.EarlyStopping(monitor='loss', mode = \"min\", verbose = 1, patience = 5)\n",
        "                                                                                      , tf.keras.callbacks.ModelCheckpoint(filepath = save_filepath, monitor = 'val_loss', mode = 'min', verbose = 1, save_best_only=True)])\n",
        "\n",
        "vae.load_weights(save_filepath)"
      ],
      "metadata": {
        "colab": {
          "base_uri": "https://localhost:8080/"
        },
        "id": "AVeiGBzi-GvW",
        "outputId": "36952791-3f13-4b75-ec4e-bea0e8738f27"
      },
      "execution_count": 16,
      "outputs": [
        {
          "output_type": "stream",
          "name": "stdout",
          "text": [
            "Train on 50000 samples, validate on 10000 samples\n",
            "Epoch 1/20\n",
            "48800/50000 [============================>.] - ETA: 0s - loss: 9175.8925"
          ]
        },
        {
          "output_type": "stream",
          "name": "stderr",
          "text": [
            "/usr/local/lib/python3.7/dist-packages/keras/engine/training_v1.py:2057: UserWarning: `Model.state_updates` will be removed in a future version. This property should not be used in TensorFlow 2.0, as `updates` are applied automatically.\n",
            "  updates = self.state_updates\n"
          ]
        },
        {
          "output_type": "stream",
          "name": "stdout",
          "text": [
            "\n",
            "Epoch 1: val_loss improved from inf to 7394.65897, saving model to /tmp_cifar/checkpoint\n",
            "INFO:tensorflow:Assets written to: /tmp_cifar/checkpoint/assets\n",
            "50000/50000 [==============================] - 8s 161us/sample - loss: 9138.5556 - val_loss: 7394.6590\n",
            "Epoch 2/20\n",
            "49700/50000 [============================>.] - ETA: 0s - loss: 6995.3296\n",
            "Epoch 2: val_loss improved from 7394.65897 to 6783.58581, saving model to /tmp_cifar/checkpoint\n",
            "INFO:tensorflow:Assets written to: /tmp_cifar/checkpoint/assets\n",
            "50000/50000 [==============================] - 4s 79us/sample - loss: 6992.2467 - val_loss: 6783.5858\n",
            "Epoch 3/20\n",
            "49500/50000 [============================>.] - ETA: 0s - loss: 6601.7478\n",
            "Epoch 3: val_loss improved from 6783.58581 to 6479.86797, saving model to /tmp_cifar/checkpoint\n",
            "INFO:tensorflow:Assets written to: /tmp_cifar/checkpoint/assets\n",
            "50000/50000 [==============================] - 4s 75us/sample - loss: 6600.9549 - val_loss: 6479.8680\n",
            "Epoch 4/20\n",
            "48800/50000 [============================>.] - ETA: 0s - loss: 6477.0516\n",
            "Epoch 4: val_loss did not improve from 6479.86797\n",
            "50000/50000 [==============================] - 2s 48us/sample - loss: 6477.9213 - val_loss: 6535.7659\n",
            "Epoch 5/20\n",
            "49100/50000 [============================>.] - ETA: 0s - loss: 6407.2773\n",
            "Epoch 5: val_loss improved from 6479.86797 to 6338.56154, saving model to /tmp_cifar/checkpoint\n",
            "INFO:tensorflow:Assets written to: /tmp_cifar/checkpoint/assets\n",
            "50000/50000 [==============================] - 4s 73us/sample - loss: 6404.1405 - val_loss: 6338.5615\n",
            "Epoch 6/20\n",
            "48900/50000 [============================>.] - ETA: 0s - loss: 6356.7699\n",
            "Epoch 6: val_loss improved from 6338.56154 to 6259.68657, saving model to /tmp_cifar/checkpoint\n",
            "INFO:tensorflow:Assets written to: /tmp_cifar/checkpoint/assets\n",
            "50000/50000 [==============================] - 4s 78us/sample - loss: 6356.1133 - val_loss: 6259.6866\n",
            "Epoch 7/20\n",
            "49300/50000 [============================>.] - ETA: 0s - loss: 6321.3317\n",
            "Epoch 7: val_loss did not improve from 6259.68657\n",
            "50000/50000 [==============================] - 2s 49us/sample - loss: 6320.5888 - val_loss: 6400.2171\n",
            "Epoch 8/20\n",
            "49400/50000 [============================>.] - ETA: 0s - loss: 6289.6757\n",
            "Epoch 8: val_loss did not improve from 6259.68657\n",
            "50000/50000 [==============================] - 2s 48us/sample - loss: 6288.6512 - val_loss: 6453.3551\n",
            "Epoch 9/20\n",
            "49400/50000 [============================>.] - ETA: 0s - loss: 6267.5945\n",
            "Epoch 9: val_loss improved from 6259.68657 to 6248.43389, saving model to /tmp_cifar/checkpoint\n",
            "INFO:tensorflow:Assets written to: /tmp_cifar/checkpoint/assets\n",
            "50000/50000 [==============================] - 4s 75us/sample - loss: 6267.4632 - val_loss: 6248.4339\n",
            "Epoch 10/20\n",
            "50000/50000 [==============================] - ETA: 0s - loss: 6247.6166\n",
            "Epoch 10: val_loss did not improve from 6248.43389\n",
            "50000/50000 [==============================] - 2s 48us/sample - loss: 6247.6166 - val_loss: 6253.7819\n",
            "Epoch 11/20\n",
            "48900/50000 [============================>.] - ETA: 0s - loss: 6230.2398\n",
            "Epoch 11: val_loss improved from 6248.43389 to 6185.24532, saving model to /tmp_cifar/checkpoint\n",
            "INFO:tensorflow:Assets written to: /tmp_cifar/checkpoint/assets\n",
            "50000/50000 [==============================] - 4s 74us/sample - loss: 6229.4463 - val_loss: 6185.2453\n",
            "Epoch 12/20\n",
            "49400/50000 [============================>.] - ETA: 0s - loss: 6216.3188\n",
            "Epoch 12: val_loss did not improve from 6185.24532\n",
            "50000/50000 [==============================] - 2s 48us/sample - loss: 6215.3233 - val_loss: 6269.9732\n",
            "Epoch 13/20\n",
            "49500/50000 [============================>.] - ETA: 0s - loss: 6206.0530\n",
            "Epoch 13: val_loss improved from 6185.24532 to 6132.81196, saving model to /tmp_cifar/checkpoint\n",
            "INFO:tensorflow:Assets written to: /tmp_cifar/checkpoint/assets\n",
            "50000/50000 [==============================] - 4s 78us/sample - loss: 6205.2673 - val_loss: 6132.8120\n",
            "Epoch 14/20\n",
            "49600/50000 [============================>.] - ETA: 0s - loss: 6193.6466\n",
            "Epoch 14: val_loss did not improve from 6132.81196\n",
            "50000/50000 [==============================] - 3s 54us/sample - loss: 6193.6108 - val_loss: 6181.9137\n",
            "Epoch 15/20\n",
            "49400/50000 [============================>.] - ETA: 0s - loss: 6184.4515\n",
            "Epoch 15: val_loss did not improve from 6132.81196\n",
            "50000/50000 [==============================] - 2s 48us/sample - loss: 6186.0908 - val_loss: 6274.2319\n",
            "Epoch 16/20\n",
            "49400/50000 [============================>.] - ETA: 0s - loss: 6175.8229\n",
            "Epoch 16: val_loss did not improve from 6132.81196\n",
            "50000/50000 [==============================] - 2s 48us/sample - loss: 6175.6638 - val_loss: 6190.9872\n",
            "Epoch 17/20\n",
            "49300/50000 [============================>.] - ETA: 0s - loss: 6169.0349\n",
            "Epoch 17: val_loss did not improve from 6132.81196\n",
            "50000/50000 [==============================] - 2s 48us/sample - loss: 6167.7516 - val_loss: 6288.4948\n",
            "Epoch 18/20\n",
            "49300/50000 [============================>.] - ETA: 0s - loss: 6160.6702\n",
            "Epoch 18: val_loss did not improve from 6132.81196\n",
            "50000/50000 [==============================] - 2s 47us/sample - loss: 6162.0860 - val_loss: 6171.4324\n",
            "Epoch 19/20\n",
            "50000/50000 [==============================] - ETA: 0s - loss: 6156.0086\n",
            "Epoch 19: val_loss did not improve from 6132.81196\n",
            "50000/50000 [==============================] - 2s 48us/sample - loss: 6156.0086 - val_loss: 6144.2657\n",
            "Epoch 20/20\n",
            "49100/50000 [============================>.] - ETA: 0s - loss: 6150.7482\n",
            "Epoch 20: val_loss did not improve from 6132.81196\n",
            "50000/50000 [==============================] - 2s 48us/sample - loss: 6149.8418 - val_loss: 6261.2619\n"
          ]
        },
        {
          "output_type": "execute_result",
          "data": {
            "text/plain": [
              "<tensorflow.python.training.tracking.util.CheckpointLoadStatus at 0x7f523c37fc50>"
            ]
          },
          "metadata": {},
          "execution_count": 16
        }
      ]
    },
    {
      "cell_type": "code",
      "source": [
        "tf.keras.backend.clear_session()\n",
        "tf.compat.v1.reset_default_graph()\n",
        "del vae\n",
        "\n",
        "# Start tf session so we can run code.\n",
        "#sess = tf.InteractiveSession()\n",
        "sess=tf.compat.v1.InteractiveSession()\n",
        "# Connect keras to the created session.\n",
        "K.set_session(sess)"
      ],
      "metadata": {
        "id": "7mZx66FMshSc"
      },
      "execution_count": 17,
      "outputs": []
    },
    {
      "cell_type": "code",
      "source": [
        "batch_size = master_batch_size\n",
        "original_dim = x_train_.shape[1] # Number of pixels in  images.\n",
        "latent_dim = 10 # d, dimensionality of the latent code t.\n",
        "intermediate_dim = 256 # Size of the hidden layer.\n",
        "epochs = 50\n",
        "\n",
        "x = Input(batch_shape=(batch_size, original_dim))\n",
        "\n",
        "\n",
        "def create_encoder(input_dim):\n",
        "    # Encoder network.\n",
        "    # We instantiate these layers separately so as to reuse them later\n",
        "    encoder = Sequential(name='encoder')\n",
        "    encoder.add(InputLayer([input_dim], name = 'Inpute_encoder'))\n",
        "   # encoder.add(BatchNormalization())\n",
        "    encoder.add(Dense(intermediate_dim, activation='relu', kernel_initializer=tf.keras.initializers.GlorotNormal(), name = 'intermediate_dim_encoder'))\n",
        "    # encoder.add(Dense(intermediate_dim // 2, activation='relu', kernel_initializer=tf.keras.initializers.GlorotNormal(), name = 'intermediate_dim_2_encoder'))\n",
        "    # encoder.add(Dense(intermediate_dim // 4, activation='relu', kernel_initializer=tf.keras.initializers.GlorotNormal(), name = 'intermediate_dim_4_encoder'))\n",
        "    encoder.add(Dense(2 * latent_dim, kernel_initializer=tf.keras.initializers.GlorotNormal()))\n",
        "    return encoder\n",
        "\n",
        "    \n",
        "encoder = create_encoder(original_dim)\n",
        "\n",
        "get_t_mean = Lambda(lambda h: h[:, :latent_dim])\n",
        "get_t_log_var = Lambda(lambda h: h[:, latent_dim:])\n",
        "\n",
        "\n",
        "get_x_mean = Lambda(lambda h: h[:, :original_dim])\n",
        "get_x_var = Lambda(lambda h: h[:, original_dim:])\n",
        "\n",
        "\n",
        "h = encoder(x)\n",
        "t_mean = get_t_mean(h)\n",
        "t_log_var = get_t_log_var(h)\n",
        "\n",
        "# Sampling from the distribution \n",
        "#     q(t | x) = N(t_mean, exp(t_log_var))\n",
        "# with reparametrization trick.\n",
        "def sampling(args):\n",
        "    \"\"\"Returns sample from a distribution N(args[0], diag(args[1]))\n",
        "    \n",
        "    The sample should be computed with reparametrization trick.\n",
        "    \n",
        "    The inputs are tf.Tensor\n",
        "        args[0]: (batch_size x latent_dim) mean of the desired distribution\n",
        "        args[1]: (batch_size x latent_dim) logarithm of the variance vector of the desired distribution\n",
        "    \n",
        "    Returns:\n",
        "        A tf.Tensor of size (batch_size x latent_dim), the samples.\n",
        "    \"\"\"\n",
        "    t_mean, t_log_var = args\n",
        "    t_std = tf.exp(0.5*t_log_var)\n",
        "    #print(t_std)\n",
        "    eps = tf.random.normal(t_mean.shape, mean=0, stddev=1, dtype=tf.float32)*t_std + t_mean\n",
        "    return eps\n",
        "\n",
        "    # YOUR CODE HERE\n",
        "\n",
        "\n",
        "t = Lambda(sampling)([t_mean, t_log_var])\n",
        "\n",
        "def create_decoder(input_dim):\n",
        "    # Decoder network\n",
        "    # We instantiate these layers separately so as to reuse them later\n",
        "    decoder = Sequential(name='decoder')\n",
        "    decoder.add(InputLayer([input_dim], name = 'Inpute_decoder'))\n",
        "    # decoder.add(Dense(intermediate_dim // 4, activation='relu', kernel_initializer=tf.keras.initializers.GlorotNormal(), name = 'intermediate_dim_4_decoder'))\n",
        "    # decoder.add(Dense(intermediate_dim // 2, activation='relu', kernel_initializer=tf.keras.initializers.GlorotNormal(), name = 'intermediate_dim_2_decodder'))\n",
        "    decoder.add(Dense(intermediate_dim, activation='relu', kernel_initializer=tf.keras.initializers.GlorotNormal(), name = 'intermediate_dim_encoider'))\n",
        "    decoder.add(Dense(2*original_dim, activation='sigmoid', kernel_initializer=tf.keras.initializers.GlorotNormal()))\n",
        "    return decoder\n",
        "\n",
        "    \n",
        "decoder = create_decoder(latent_dim)\n",
        "x_decoded = decoder(t)\n",
        "x_decoded_mean = get_x_mean(x_decoded)\n",
        "x_decoded_var = get_x_var(x_decoded)\n"
      ],
      "metadata": {
        "id": "IJ_Dau_SsKCf"
      },
      "execution_count": 18,
      "outputs": []
    },
    {
      "cell_type": "code",
      "source": [
        "\n",
        "\n",
        "loss = vlb_binomial(x, x_decoded_mean, x_decoded_var, t_mean, t_log_var)\n",
        "vae = Model(x, x_decoded_mean)\n",
        "\n",
        "\n",
        "vae.compile(optimizer=tf.keras.optimizers.Adam(learning_rate=0.001, beta_1=0.9, beta_2=0.999, epsilon=1e-07,\\\n",
        "                amsgrad=False, name='Adam'), loss=lambda x, y: loss)\n",
        "\n",
        "save_filepath = '/tmp_cifar/checkpoint'\n",
        "vae.load_weights(save_filepath)\n",
        "hist2 = vae.fit(x=[x_train_, y_train],\n",
        "                y=x_train_,\n",
        "                shuffle=True,\n",
        "                epochs=30,\n",
        "                batch_size=batch_size,\n",
        "                validation_data=([x_test_, y_test], x_test_), verbose=1, callbacks = [tf.keras.callbacks.EarlyStopping(monitor='loss', mode = \"min\", verbose = 1, patience = 5)\n",
        "                                                                                      , tf.keras.callbacks.ModelCheckpoint(filepath = save_filepath, monitor = 'val_loss', mode = 'min', verbose = 1, save_best_only=True)])\n",
        "vae.load_weights(save_filepath)\n"
      ],
      "metadata": {
        "colab": {
          "base_uri": "https://localhost:8080/"
        },
        "id": "KXJnUy4eRRz6",
        "outputId": "0d5d2e83-204e-4461-beaa-7bb7a3a10486"
      },
      "execution_count": null,
      "outputs": [
        {
          "output_type": "stream",
          "name": "stdout",
          "text": [
            "batch_size = 100, number_of_pixels = 3072 kl_size = (100,)\n",
            "Train on 50000 samples, validate on 10000 samples\n",
            "Epoch 1/30\n",
            "49900/50000 [============================>.] - ETA: 0s - loss: 6167.7044"
          ]
        },
        {
          "output_type": "stream",
          "name": "stderr",
          "text": [
            "/usr/local/lib/python3.7/dist-packages/keras/engine/training_v1.py:2057: UserWarning: `Model.state_updates` will be removed in a future version. This property should not be used in TensorFlow 2.0, as `updates` are applied automatically.\n",
            "  updates = self.state_updates\n"
          ]
        },
        {
          "output_type": "stream",
          "name": "stdout",
          "text": [
            "\n",
            "Epoch 1: val_loss improved from inf to 6092.85917, saving model to /tmp_cifar/checkpoint\n",
            "INFO:tensorflow:Assets written to: /tmp_cifar/checkpoint/assets\n",
            "50000/50000 [==============================] - 4s 77us/sample - loss: 6167.1071 - val_loss: 6092.8592\n",
            "Epoch 2/30\n",
            "48700/50000 [============================>.] - ETA: 0s - loss: 6069.2864\n",
            "Epoch 2: val_loss improved from 6092.85917 to 6076.39586, saving model to /tmp_cifar/checkpoint\n",
            "INFO:tensorflow:Assets written to: /tmp_cifar/checkpoint/assets\n",
            "50000/50000 [==============================] - 4s 71us/sample - loss: 6066.4890 - val_loss: 6076.3959\n",
            "Epoch 3/30\n",
            "49400/50000 [============================>.] - ETA: 0s - loss: 6053.7219\n",
            "Epoch 3: val_loss improved from 6076.39586 to 6075.10499, saving model to /tmp_cifar/checkpoint\n"
          ]
        }
      ]
    },
    {
      "cell_type": "markdown",
      "source": [
        "### Визуализация реконструкции для обучения и проверки данных\n",
        "На рисунке ниже вы можете увидеть способность вашей сети к реконструкции на основе данных обучения и валидации. В каждом из двух изображений левый столбец — это изображения CIFAR, а правый столбец — это соответствующее изображение после прохождения через автоэнкодер (или, точнее, среднее значение биномиального распределения по выходным изображениям).\n",
        "\n",
        "Обратите внимание, что получение наилучшей возможной реконструкции не является целью VAE, дивергенция Кульбака-Лейблера KL функции потерь ухудшает производительность реконструкции. Но реконструкция в любом случае должна быть разумной, и они предоставляют визуальный инструмент отладки кода."
      ],
      "metadata": {
        "id": "Qp3XzlDOJhBF"
      }
    },
    {
      "cell_type": "code",
      "source": [
        "x_decoded_mean = vae.get_layer('decoder')\n"
      ],
      "metadata": {
        "id": "7bYrpivkLDlh"
      },
      "execution_count": null,
      "outputs": []
    },
    {
      "cell_type": "code",
      "source": [
        "\n",
        "for fid_idx, (data, title) in enumerate(zip([x_train_, x_test_]\n",
        "                                          , ['Train', 'Validation'])\n",
        "                                        ):\n",
        "    n = 10 \n",
        "    fig, ax = plt.subplots(n, 2, figsize=(10, 4 * n))\n",
        "    fig.suptitle(title, fontsize=16)\n",
        "    ind = 0\n",
        "    decoded = sess.run(get_x_mean(x_decoded), feed_dict={x: data[:batch_size, :]})\n",
        "    for i in range(n):\n",
        "        ax[i][0].imshow(data[i, :].reshape(w_dim, h_dim, c_dim))\n",
        "        ax[i][1].imshow(decoded[i, :original_dim].reshape(w_dim, h_dim, c_dim))\n",
        "        ax[i][0].set_title('Input')\n",
        "        ax[i][1].set_title('Mean Decode')\n",
        "        ax[i][0].axis('off')\n",
        "        ax[i][1].axis('off')\n",
        "plt.show()"
      ],
      "metadata": {
        "id": "lOzBs2xm-enF"
      },
      "execution_count": null,
      "outputs": []
    },
    {
      "cell_type": "code",
      "source": [
        "fig, ax = plt.subplots(figsize = (15, 10))\n",
        "\n",
        "\n",
        "train_loss = np.concatenate([hist.history['loss'], hist2.history['loss']])\n",
        "\n",
        "plt.plot(train_loss, label = 'Train Loss')\n",
        "\n",
        "\n",
        "test_loss = np.concatenate([hist.history['val_loss'], hist2.history['val_loss']])\n",
        "\n",
        "plt.plot(test_loss, label = 'Test Loss')\n",
        "plt.legend()\n"
      ],
      "metadata": {
        "id": "1bIqv3NQ-jcQ"
      },
      "execution_count": null,
      "outputs": []
    },
    {
      "cell_type": "markdown",
      "metadata": {
        "id": "2A2AgmDNqKMf"
      },
      "source": [
        "## Варьирование параметров модели"
      ]
    },
    {
      "cell_type": "markdown",
      "metadata": {
        "id": "dl_p9-yVqKMi"
      },
      "source": [
        "Проварьируем структуру модели, добавив промежуточных слоев энкодера и декода, естественно прежде увеличив размерность параметров."
      ]
    },
    {
      "cell_type": "code",
      "source": [
        "tf.keras.backend.clear_session()\n",
        "tf.compat.v1.reset_default_graph()\n",
        "\n",
        "\n",
        "# Start tf session so we can run code.\n",
        "#sess = tf.InteractiveSession()\n",
        "sess=tf.compat.v1.InteractiveSession()\n",
        "# Connect keras to the created session.\n",
        "K.set_session(sess)"
      ],
      "metadata": {
        "id": "y_wyep7DqKMn"
      },
      "execution_count": null,
      "outputs": []
    },
    {
      "cell_type": "code",
      "source": [
        "batch_size = master_batch_size\n",
        "original_dim = x_train_.shape[1] # Number of pixels in  images.\n",
        "latent_dim = 10 # d, dimensionality of the latent code t.\n",
        "intermediate_dim = 1024 # Size of the hidden layer.\n",
        "epochs = 50\n",
        "\n",
        "x = Input(batch_shape=(batch_size, original_dim))\n",
        "\n",
        "\n",
        "def create_encoder(input_dim):\n",
        "    # Encoder network.\n",
        "    # We instantiate these layers separately so as to reuse them later\n",
        "    encoder = Sequential(name='encoder')\n",
        "    encoder.add(InputLayer([input_dim], name = 'Inpute_encoder'))\n",
        "    encoder.add(BatchNormalization())\n",
        "    encoder.add(Dense(intermediate_dim, activation='relu', kernel_initializer=tf.keras.initializers.GlorotNormal(), name = 'intermediate_dim_encoder'))\n",
        "    encoder.add(Dense(intermediate_dim // 2, activation='relu', kernel_initializer=tf.keras.initializers.GlorotNormal(), name = 'intermediate_dim_2_encoder')) #ADDITION LAYER\n",
        "    encoder.add(Dense(intermediate_dim // 4, activation='relu', kernel_initializer=tf.keras.initializers.GlorotNormal(), name = 'intermediate_dim_4_encoder')) #ADDITION LAYER\n",
        "    encoder.add(Dense(2 * latent_dim, kernel_initializer=tf.keras.initializers.GlorotNormal()))\n",
        "    return encoder\n",
        "\n",
        "    \n",
        "encoder = create_encoder(original_dim)\n",
        "\n",
        "get_t_mean = Lambda(lambda h: h[:, :latent_dim])\n",
        "get_t_log_var = Lambda(lambda h: h[:, latent_dim:])\n",
        "\n",
        "\n",
        "get_x_mean = Lambda(lambda h: h[:, :original_dim])\n",
        "get_x_var = Lambda(lambda h: h[:, original_dim:])\n",
        "\n",
        "\n",
        "h = encoder(x)\n",
        "t_mean = get_t_mean(h)\n",
        "t_log_var = get_t_log_var(h)\n",
        "\n",
        "# Sampling from the distribution \n",
        "#     q(t | x) = N(t_mean, exp(t_log_var))\n",
        "# with reparametrization trick.\n",
        "def sampling(args):\n",
        "    \"\"\"Returns sample from a distribution N(args[0], diag(args[1]))\n",
        "    \n",
        "    The sample should be computed with reparametrization trick.\n",
        "    \n",
        "    The inputs are tf.Tensor\n",
        "        args[0]: (batch_size x latent_dim) mean of the desired distribution\n",
        "        args[1]: (batch_size x latent_dim) logarithm of the variance vector of the desired distribution\n",
        "    \n",
        "    Returns:\n",
        "        A tf.Tensor of size (batch_size x latent_dim), the samples.\n",
        "    \"\"\"\n",
        "    t_mean, t_log_var = args\n",
        "    t_std = tf.exp(0.5*t_log_var)\n",
        "    #print(t_std)\n",
        "    eps = tf.random.normal(t_mean.shape, mean=0, stddev=1, dtype=tf.float32)*t_std + t_mean\n",
        "    return eps\n",
        "\n",
        "    # YOUR CODE HERE\n",
        "\n",
        "\n",
        "t = Lambda(sampling)([t_mean, t_log_var])\n",
        "\n",
        "def create_decoder(input_dim):\n",
        "    # Decoder network\n",
        "    # We instantiate these layers separately so as to reuse them later\n",
        "    decoder = Sequential(name='decoder')\n",
        "    decoder.add(InputLayer([input_dim], name = 'Inpute_decoder'))\n",
        "    decoder.add(Dense(intermediate_dim // 4, activation='relu', kernel_initializer=tf.keras.initializers.GlorotNormal(), name = 'intermediate_dim_4_decoder')) #ADDITION LAYER\n",
        "    decoder.add(Dense(intermediate_dim // 2, activation='relu', kernel_initializer=tf.keras.initializers.GlorotNormal(), name = 'intermediate_dim_2_decodder')) #ADDITION LAYER\n",
        "    decoder.add(Dense(intermediate_dim, activation='relu', kernel_initializer=tf.keras.initializers.GlorotNormal(), name = 'intermediate_dim_encoider'))\n",
        "    decoder.add(Dense(2*original_dim, activation='sigmoid', kernel_initializer=tf.keras.initializers.GlorotNormal()))\n",
        "    return decoder\n",
        "\n",
        "    \n",
        "decoder = create_decoder(latent_dim)\n",
        "x_decoded = decoder(t)\n",
        "x_decoded_mean = get_x_mean(x_decoded)\n",
        "x_decoded_var = get_x_var(x_decoded)\n"
      ],
      "metadata": {
        "id": "Sjf1XgjnqKMq"
      },
      "execution_count": null,
      "outputs": []
    },
    {
      "cell_type": "code",
      "source": [
        "\n",
        "loss = vlb_binomial(x, x_decoded_mean, x_decoded_var, t_mean, t_log_var)\n",
        "vae = Model(x, x_decoded_mean)\n",
        "tf.keras.utils.plot_model(vae,show_shapes = True,  \n",
        "    show_dtype=True,\n",
        "    show_layer_names=True,\n",
        "    rankdir='LR',\n",
        "    expand_nested=True,\n",
        "    dpi=96,\n",
        "\n",
        "    show_layer_activations=True\n",
        ")"
      ],
      "metadata": {
        "id": "KyC8RwgYsPf3"
      },
      "execution_count": null,
      "outputs": []
    },
    {
      "cell_type": "code",
      "source": [
        "\n",
        "\n",
        "\n",
        "vae.compile(optimizer=tf.keras.optimizers.Adam(learning_rate=0.001, beta_1=0.9, beta_2=0.999, epsilon=1e-07,\\\n",
        "                amsgrad=False, name='Adam'), loss=lambda x, y: loss)\n",
        "\n",
        "save_filepath = '/tmp_cifar/checkpoint'\n",
        "\n",
        "hist3 = vae.fit(x=[x_train_, y_train],\n",
        "                y=x_train_,\n",
        "                shuffle=True,\n",
        "                epochs=50,\n",
        "                batch_size=batch_size,\n",
        "                validation_data=([x_test_, y_test], x_test_), verbose=1, callbacks = [tf.keras.callbacks.EarlyStopping(monitor='loss', mode = \"min\", verbose = 1, patience = 5)\n",
        "                                                                                      , tf.keras.callbacks.ModelCheckpoint(filepath = save_filepath, monitor = 'val_loss', mode = 'min', verbose = 1, save_best_only=True)])\n",
        "vae.load_weights(save_filepath)\n"
      ],
      "metadata": {
        "id": "pUA7LqvcqKMt"
      },
      "execution_count": null,
      "outputs": []
    },
    {
      "cell_type": "markdown",
      "source": [
        "### Визуализация реконструкции для обучения и проверки данных\n",
        "На рисунке ниже вы можете увидеть способность вашей сети к реконструкции на основе данных обучения и валидации. В каждом из двух изображений левый столбец — это изображения CIFAR, а правый столбец — это соответствующее изображение после прохождения через автоэнкодер (или, точнее, среднее значение биномиального распределения по выходным изображениям).\n",
        "\n",
        "Обратите внимание, что получение наилучшей возможной реконструкции не является целью VAE, дивергенция Кульбака-Лейблера KL функции потерь ухудшает производительность реконструкции. Но реконструкция в любом случае должна быть разумной, и они предоставляют визуальный инструмент отладки кода."
      ],
      "metadata": {
        "id": "5hCPDc57qKMv"
      }
    },
    {
      "cell_type": "code",
      "source": [
        "x_decoded_mean = vae.get_layer('decoder')\n"
      ],
      "metadata": {
        "id": "7_EnXxyjqKMw"
      },
      "execution_count": null,
      "outputs": []
    },
    {
      "cell_type": "code",
      "source": [
        "\n",
        "for fid_idx, (data, title) in enumerate(zip([x_train_, x_test_]\n",
        "                                          , ['Train', 'Validation'])\n",
        "                                        ):\n",
        "    n = 10 \n",
        "    fig, ax = plt.subplots(n, 2, figsize=(10, 4 * n))\n",
        "    fig.suptitle(title, fontsize=16)\n",
        "    ind = 0\n",
        "    decoded = sess.run(get_x_mean(x_decoded), feed_dict={x: data[:batch_size, :]})\n",
        "    for i in range(n):\n",
        "        ax[i][0].imshow(data[i, :].reshape(w_dim, h_dim, c_dim))\n",
        "        ax[i][1].imshow(decoded[i, :original_dim].reshape(w_dim, h_dim, c_dim))\n",
        "        ax[i][0].set_title('Input')\n",
        "        ax[i][1].set_title('Mean Decode')\n",
        "        ax[i][0].axis('off')\n",
        "        ax[i][1].axis('off')\n",
        "plt.show()"
      ],
      "metadata": {
        "id": "E9KNfySwqKMy"
      },
      "execution_count": null,
      "outputs": []
    },
    {
      "cell_type": "code",
      "source": [
        "fig, ax = plt.subplots(figsize = (15, 10))\n",
        "\n",
        "\n",
        "train_loss = hist3.history['loss']\n",
        "\n",
        "plt.plot(train_loss, label = 'Train Loss')\n",
        "\n",
        "\n",
        "test_loss = hist3.history['val_loss']\n",
        "\n",
        "plt.plot(test_loss, label = 'Test Loss')\n",
        "plt.legend()\n"
      ],
      "metadata": {
        "id": "DO5IstDDqKMz"
      },
      "execution_count": null,
      "outputs": []
    },
    {
      "cell_type": "markdown",
      "source": [
        "#### Добавим регулерезацию \n",
        "\n",
        "Как видно по графику ошибки, параметров стало достаточно для переобучения.\n",
        "\n",
        "Однако, субъективное восприятие качества изображений говорит о том, что добавление слоев пошло на пользу.\n",
        "\n",
        "Для борьбы с переобучением добавим DropOut"
      ],
      "metadata": {
        "id": "5-zRD4AtvZaO"
      }
    },
    {
      "cell_type": "code",
      "source": [
        "tf.keras.backend.clear_session()\n",
        "tf.compat.v1.reset_default_graph()\n",
        "del vae\n",
        "# Start tf session so we can run code.\n",
        "#sess = tf.InteractiveSession()\n",
        "sess=tf.compat.v1.InteractiveSession()\n",
        "# Connect keras to the created session.\n",
        "K.set_session(sess)"
      ],
      "metadata": {
        "id": "PCkfull6wyvf"
      },
      "execution_count": null,
      "outputs": []
    },
    {
      "cell_type": "code",
      "source": [
        "batch_size = master_batch_size\n",
        "original_dim = x_train_.shape[1] # Number of pixels in  images.\n",
        "latent_dim = 10 # d, dimensionality of the latent code t.\n",
        "intermediate_dim = 1024 # Size of the hidden layer.\n",
        "epochs = 50\n",
        "\n",
        "x = Input(batch_shape=(batch_size, original_dim))\n",
        "\n",
        "\n",
        "def create_encoder(input_dim):\n",
        "    # Encoder network.\n",
        "    # We instantiate these layers separately so as to reuse them later\n",
        "    encoder = Sequential(name='encoder')\n",
        "    encoder.add(InputLayer([input_dim], name = 'Inpute_encoder'))\n",
        "    encoder.add(BatchNormalization())\n",
        "    encoder.add(Dense(intermediate_dim, activation='relu', kernel_initializer=tf.keras.initializers.GlorotNormal(), name = 'intermediate_dim_encoder'))\n",
        "    encoder.add(Dropout(0.25))\n",
        "    encoder.add(Dense(intermediate_dim // 2, activation='relu', kernel_initializer=tf.keras.initializers.GlorotNormal(), name = 'intermediate_dim_2_encoder')) #ADDITION LAYER\n",
        "    encoder.add(Dropout(0.25))\n",
        "    encoder.add(Dense(intermediate_dim // 4, activation='relu', kernel_initializer=tf.keras.initializers.GlorotNormal(), name = 'intermediate_dim_4_encoder')) #ADDITION LAYER\n",
        "    encoder.add(Dense(2 * latent_dim, kernel_initializer=tf.keras.initializers.GlorotNormal()))\n",
        "    return encoder\n",
        "\n",
        "    \n",
        "encoder = create_encoder(original_dim)\n",
        "\n",
        "get_t_mean = Lambda(lambda h: h[:, :latent_dim])\n",
        "get_t_log_var = Lambda(lambda h: h[:, latent_dim:])\n",
        "\n",
        "\n",
        "get_x_mean = Lambda(lambda h: h[:, :original_dim])\n",
        "get_x_var = Lambda(lambda h: h[:, original_dim:])\n",
        "\n",
        "\n",
        "h = encoder(x)\n",
        "t_mean = get_t_mean(h)\n",
        "t_log_var = get_t_log_var(h)\n",
        "\n",
        "# Sampling from the distribution \n",
        "#     q(t | x) = N(t_mean, exp(t_log_var))\n",
        "# with reparametrization trick.\n",
        "def sampling(args):\n",
        "    \"\"\"Returns sample from a distribution N(args[0], diag(args[1]))\n",
        "    \n",
        "    The sample should be computed with reparametrization trick.\n",
        "    \n",
        "    The inputs are tf.Tensor\n",
        "        args[0]: (batch_size x latent_dim) mean of the desired distribution\n",
        "        args[1]: (batch_size x latent_dim) logarithm of the variance vector of the desired distribution\n",
        "    \n",
        "    Returns:\n",
        "        A tf.Tensor of size (batch_size x latent_dim), the samples.\n",
        "    \"\"\"\n",
        "    t_mean, t_log_var = args\n",
        "    t_std = tf.exp(0.5*t_log_var)\n",
        "    #print(t_std)\n",
        "    eps = tf.random.normal(t_mean.shape, mean=0, stddev=1, dtype=tf.float32)*t_std + t_mean\n",
        "    return eps\n",
        "\n",
        "    # YOUR CODE HERE\n",
        "\n",
        "\n",
        "t = Lambda(sampling)([t_mean, t_log_var])\n",
        "\n",
        "def create_decoder(input_dim):\n",
        "    # Decoder network\n",
        "    # We instantiate these layers separately so as to reuse them later\n",
        "    decoder = Sequential(name='decoder')\n",
        "    decoder.add(InputLayer([input_dim], name = 'Inpute_decoder'))\n",
        "    decoder.add(Dropout(0.25))\n",
        "    decoder.add(Dense(intermediate_dim // 4, activation='relu', kernel_initializer=tf.keras.initializers.GlorotNormal(), name = 'intermediate_dim_4_decoder')) #ADDITION LAYER\n",
        "    decoder.add(Dropout(0.25))\n",
        "    decoder.add(Dense(intermediate_dim // 2, activation='relu', kernel_initializer=tf.keras.initializers.GlorotNormal(), name = 'intermediate_dim_2_decodder')) #ADDITION LAYER\n",
        "    decoder.add(Dropout(0.25))\n",
        "    decoder.add(Dense(intermediate_dim, activation='relu', kernel_initializer=tf.keras.initializers.GlorotNormal(), name = 'intermediate_dim_encoider'))\n",
        "    decoder.add(Dense(2*original_dim, activation='sigmoid', kernel_initializer=tf.keras.initializers.GlorotNormal()))\n",
        "    return decoder\n",
        "\n",
        "    \n",
        "decoder = create_decoder(latent_dim)\n",
        "x_decoded = decoder(t)\n",
        "x_decoded_mean = get_x_mean(x_decoded)\n",
        "x_decoded_var = get_x_var(x_decoded)\n"
      ],
      "metadata": {
        "id": "uXgGhkPCwyvi"
      },
      "execution_count": null,
      "outputs": []
    },
    {
      "cell_type": "code",
      "source": [
        "\n",
        "loss = vlb_binomial(x, x_decoded_mean, x_decoded_var, t_mean, t_log_var)\n",
        "vae = Model(x, x_decoded_mean)\n",
        "tf.keras.utils.plot_model(vae,show_shapes = True,  \n",
        "    show_dtype=True,\n",
        "    show_layer_names=True,\n",
        "    rankdir='LR',\n",
        "    expand_nested=True,\n",
        "    dpi=96,\n",
        "\n",
        "    show_layer_activations=True\n",
        ")"
      ],
      "metadata": {
        "id": "7YobD8YTwyvm"
      },
      "execution_count": null,
      "outputs": []
    },
    {
      "cell_type": "code",
      "source": [
        "\n",
        "\n",
        "\n",
        "vae.compile(optimizer=tf.keras.optimizers.Adam(learning_rate=0.001, beta_1=0.9, beta_2=0.999, epsilon=1e-07,\\\n",
        "                amsgrad=False, name='Adam'), loss=lambda x, y: loss)\n",
        "\n",
        "save_filepath = '/tmp_cifar/checkpoint'\n",
        "\n",
        "hist4 = vae.fit(x=[x_train_, y_train],\n",
        "                y=x_train_,\n",
        "                shuffle=True,\n",
        "                epochs=50,\n",
        "                batch_size=batch_size,\n",
        "                validation_data=([x_test_, y_test], x_test_), verbose=1, callbacks = [tf.keras.callbacks.EarlyStopping(monitor='loss', mode = \"min\", verbose = 1, patience = 5)\n",
        "                                                                                      , tf.keras.callbacks.ModelCheckpoint(filepath = save_filepath, monitor = 'val_loss', mode = 'min', verbose = 1, save_best_only=True)])\n",
        "vae.load_weights(save_filepath)\n"
      ],
      "metadata": {
        "id": "dV_v01PLwyvp"
      },
      "execution_count": null,
      "outputs": []
    },
    {
      "cell_type": "markdown",
      "source": [
        "### Визуализация реконструкции для обучения и проверки данных\n",
        "На рисунке ниже вы можете увидеть способность вашей сети к реконструкции на основе данных обучения и валидации. В каждом из двух изображений левый столбец — это изображения CIFAR, а правый столбец — это соответствующее изображение после прохождения через автоэнкодер (или, точнее, среднее значение биномиального распределения по выходным изображениям).\n",
        "\n",
        "Обратите внимание, что получение наилучшей возможной реконструкции не является целью VAE, дивергенция Кульбака-Лейблера KL функции потерь ухудшает производительность реконструкции. Но реконструкция в любом случае должна быть разумной, и они предоставляют визуальный инструмент отладки кода."
      ],
      "metadata": {
        "id": "YBGNmJOxwyvr"
      }
    },
    {
      "cell_type": "code",
      "source": [
        "x_decoded_mean = vae.get_layer('decoder')\n"
      ],
      "metadata": {
        "id": "RfcYXvlxwyvs"
      },
      "execution_count": null,
      "outputs": []
    },
    {
      "cell_type": "code",
      "source": [
        "\n",
        "for fid_idx, (data, title) in enumerate(zip([x_train_, x_test_]\n",
        "                                          , ['Train', 'Validation'])\n",
        "                                        ):\n",
        "    n = 10 \n",
        "    fig, ax = plt.subplots(n, 2, figsize=(10, 4 * n))\n",
        "    fig.suptitle(title, fontsize=16)\n",
        "    ind = 0\n",
        "    decoded = sess.run(get_x_mean(x_decoded), feed_dict={x: data[:batch_size, :]})\n",
        "    for i in range(n):\n",
        "        ax[i][0].imshow(data[i, :].reshape(w_dim, h_dim, c_dim))\n",
        "        ax[i][1].imshow(decoded[i, :original_dim].reshape(w_dim, h_dim, c_dim))\n",
        "        ax[i][0].set_title('Input')\n",
        "        ax[i][1].set_title('Mean Decode')\n",
        "        ax[i][0].axis('off')\n",
        "        ax[i][1].axis('off')\n",
        "plt.show()"
      ],
      "metadata": {
        "id": "ZPAvGPgmwyvt"
      },
      "execution_count": null,
      "outputs": []
    },
    {
      "cell_type": "code",
      "source": [
        "fig, ax = plt.subplots(figsize = (15, 10))\n",
        "\n",
        "\n",
        "train_loss =  hist4.history['loss']\n",
        "\n",
        "plt.plot(train_loss, label = 'Train Loss')\n",
        "\n",
        "\n",
        "test_loss =  hist4.history['val_loss']\n",
        "\n",
        "plt.plot(test_loss, label = 'Test Loss')\n",
        "plt.legend()\n"
      ],
      "metadata": {
        "id": "-FH0P0Yrwyvv"
      },
      "execution_count": null,
      "outputs": []
    },
    {
      "cell_type": "markdown",
      "source": [
        "### Метод оптимизации\n",
        "\n",
        "Судя по графику функции ошибки, переобучение было пресечено, но из-за роста пространства параметров столкнулись со следующей проблемой - локальный минимум, из-за которого показатели сильно ухудшились.\n",
        "\n",
        "Для борьбы с этим заменим метод оптимизации Adam на AdaBelief, [который имеет наилучшие показатели](https://juntang-zhuang.github.io/adabelief/)  на протяжении обучения.\n",
        "\n",
        "Для исследования поведения алгоритма оптимизации, уберем DropOut"
      ],
      "metadata": {
        "id": "LZjBUThP0xZ_"
      }
    },
    {
      "cell_type": "code",
      "source": [
        "!pip install -U tensorflow-addons"
      ],
      "metadata": {
        "id": "f0GX7mEk20AZ"
      },
      "execution_count": null,
      "outputs": []
    },
    {
      "cell_type": "code",
      "source": [
        "import tensorflow_addons as tfa"
      ],
      "metadata": {
        "id": "pN0-l8Uk23GQ"
      },
      "execution_count": null,
      "outputs": []
    },
    {
      "cell_type": "code",
      "source": [
        "tf.keras.backend.clear_session()\n",
        "tf.compat.v1.reset_default_graph()\n",
        "del vae\n",
        "# Start tf session so we can run code.\n",
        "#sess = tf.InteractiveSession()\n",
        "sess=tf.compat.v1.InteractiveSession()\n",
        "# Connect keras to the created session.\n",
        "K.set_session(sess)"
      ],
      "metadata": {
        "id": "mhcr65nG12ob"
      },
      "execution_count": null,
      "outputs": []
    },
    {
      "cell_type": "code",
      "source": [
        "batch_size = master_batch_size\n",
        "original_dim = x_train_.shape[1] # Number of pixels in  images.\n",
        "latent_dim = 10 # d, dimensionality of the latent code t.\n",
        "intermediate_dim = 1024 # Size of the hidden layer.\n",
        "epochs = 50\n",
        "\n",
        "x = Input(batch_shape=(batch_size, original_dim))\n",
        "\n",
        "\n",
        "def create_encoder(input_dim):\n",
        "    # Encoder network.\n",
        "    # We instantiate these layers separately so as to reuse them later\n",
        "    encoder = Sequential(name='encoder')\n",
        "    encoder.add(InputLayer([input_dim], name = 'Inpute_encoder'))\n",
        "    encoder.add(BatchNormalization())\n",
        "   # encoder.add(Dropout(0.25))\n",
        "    encoder.add(Dense(intermediate_dim, activation='relu', kernel_initializer=tf.keras.initializers.GlorotNormal(), name = 'intermediate_dim_encoder'))\n",
        "    \n",
        "    encoder.add(Dense(intermediate_dim // 2, activation='relu', kernel_initializer=tf.keras.initializers.GlorotNormal(), name = 'intermediate_dim_2_encoder')) #ADDITION LAYER\n",
        "\n",
        "    encoder.add(Dense(intermediate_dim // 4, activation='relu', kernel_initializer=tf.keras.initializers.GlorotNormal(), name = 'intermediate_dim_4_encoder')) #ADDITION LAYER\n",
        "   \n",
        "    encoder.add(Dense(2 * latent_dim, kernel_initializer=tf.keras.initializers.GlorotNormal()))\n",
        "    return encoder\n",
        "\n",
        "    \n",
        "encoder = create_encoder(original_dim)\n",
        "\n",
        "get_t_mean = Lambda(lambda h: h[:, :latent_dim])\n",
        "get_t_log_var = Lambda(lambda h: h[:, latent_dim:])\n",
        "\n",
        "\n",
        "get_x_mean = Lambda(lambda h: h[:, :original_dim])\n",
        "get_x_var = Lambda(lambda h: h[:, original_dim:])\n",
        "\n",
        "\n",
        "h = encoder(x)\n",
        "t_mean = get_t_mean(h)\n",
        "t_log_var = get_t_log_var(h)\n",
        "\n",
        "# Sampling from the distribution \n",
        "#     q(t | x) = N(t_mean, exp(t_log_var))\n",
        "# with reparametrization trick.\n",
        "def sampling(args):\n",
        "    \"\"\"Returns sample from a distribution N(args[0], diag(args[1]))\n",
        "    \n",
        "    The sample should be computed with reparametrization trick.\n",
        "    \n",
        "    The inputs are tf.Tensor\n",
        "        args[0]: (batch_size x latent_dim) mean of the desired distribution\n",
        "        args[1]: (batch_size x latent_dim) logarithm of the variance vector of the desired distribution\n",
        "    \n",
        "    Returns:\n",
        "        A tf.Tensor of size (batch_size x latent_dim), the samples.\n",
        "    \"\"\"\n",
        "    t_mean, t_log_var = args\n",
        "    t_std = tf.exp(0.5*t_log_var)\n",
        "    #print(t_std)\n",
        "    eps = tf.random.normal(t_mean.shape, mean=0, stddev=1, dtype=tf.float32)*t_std + t_mean\n",
        "    return eps\n",
        "\n",
        "    # YOUR CODE HERE\n",
        "\n",
        "\n",
        "t = Lambda(sampling)([t_mean, t_log_var])\n",
        "\n",
        "def create_decoder(input_dim):\n",
        "    # Decoder network\n",
        "    # We instantiate these layers separately so as to reuse them later\n",
        "    decoder = Sequential(name='decoder')\n",
        "    decoder.add(InputLayer([input_dim], name = 'Inpute_decoder'))\n",
        "  \n",
        "    decoder.add(Dense(intermediate_dim // 4, activation='relu', kernel_initializer=tf.keras.initializers.GlorotNormal(), name = 'intermediate_dim_4_decoder')) #ADDITION LAYER\n",
        "    decoder.add(Dense(intermediate_dim // 2, activation='relu', kernel_initializer=tf.keras.initializers.GlorotNormal(), name = 'intermediate_dim_2_decodder')) #ADDITION LAYER\n",
        "\n",
        "    decoder.add(Dense(intermediate_dim, activation='relu', kernel_initializer=tf.keras.initializers.GlorotNormal(), name = 'intermediate_dim_encoider'))\n",
        "    #decoder.add(Dropout(0.25))\n",
        "    decoder.add(Dense(2*original_dim, activation='sigmoid', kernel_initializer=tf.keras.initializers.GlorotNormal()))\n",
        "    return decoder\n",
        "\n",
        "    \n",
        "decoder = create_decoder(latent_dim)\n",
        "x_decoded = decoder(t)\n",
        "x_decoded_mean = get_x_mean(x_decoded)\n",
        "x_decoded_var = get_x_var(x_decoded)\n"
      ],
      "metadata": {
        "id": "CMOpKRBN12od"
      },
      "execution_count": null,
      "outputs": []
    },
    {
      "cell_type": "code",
      "source": [
        "\n",
        "loss = vlb_binomial(x, x_decoded_mean, x_decoded_var, t_mean, t_log_var)\n",
        "vae = Model(x, x_decoded_mean)\n",
        "tf.keras.utils.plot_model(vae,show_shapes = True,  \n",
        "    show_dtype=True,\n",
        "    show_layer_names=True,\n",
        "    rankdir='LR',\n",
        "    expand_nested=True,\n",
        "    dpi=96,\n",
        "\n",
        "    show_layer_activations=True\n",
        ")"
      ],
      "metadata": {
        "id": "es7mVT_S12og"
      },
      "execution_count": null,
      "outputs": []
    },
    {
      "cell_type": "code",
      "source": [
        "\n",
        "\n",
        "\n",
        "vae.compile(optimizer=tfa.optimizers.AdaBelief(learning_rate=0.2e-3), loss=lambda x, y: loss)\n",
        "\n",
        "save_filepath = '/tmp_cifar/checkpoint'\n",
        "\n",
        "hist5 = vae.fit(x=[x_train_, y_train],\n",
        "                y=x_train_,\n",
        "                shuffle=True,\n",
        "                epochs=50,\n",
        "                batch_size=batch_size,\n",
        "                validation_data=([x_test_, y_test], x_test_), verbose=1, callbacks = [tf.keras.callbacks.EarlyStopping(monitor='loss', mode = \"min\", verbose = 1, patience = 5)\n",
        "                                                                                      , tf.keras.callbacks.ModelCheckpoint(filepath = save_filepath, monitor = 'val_loss', mode = 'min', verbose = 1, save_best_only=True)])\n",
        "vae.load_weights(save_filepath)\n"
      ],
      "metadata": {
        "id": "oA7jQdbG12oh"
      },
      "execution_count": null,
      "outputs": []
    },
    {
      "cell_type": "markdown",
      "source": [
        "### Визуализация реконструкции для обучения и проверки данных\n",
        "На рисунке ниже вы можете увидеть способность вашей сети к реконструкции на основе данных обучения и валидации. В каждом из двух изображений левый столбец — это изображения CIFAR, а правый столбец — это соответствующее изображение после прохождения через автоэнкодер (или, точнее, среднее значение биномиального распределения по выходным изображениям).\n",
        "\n",
        "Обратите внимание, что получение наилучшей возможной реконструкции не является целью VAE, дивергенция Кульбака-Лейблера KL функции потерь ухудшает производительность реконструкции. Но реконструкция в любом случае должна быть разумной, и они предоставляют визуальный инструмент отладки кода."
      ],
      "metadata": {
        "id": "1U-wKAqr12oj"
      }
    },
    {
      "cell_type": "code",
      "source": [
        "x_decoded_mean = vae.get_layer('decoder')\n"
      ],
      "metadata": {
        "id": "Nzmg9NoF12ok"
      },
      "execution_count": null,
      "outputs": []
    },
    {
      "cell_type": "code",
      "source": [
        "\n",
        "for fid_idx, (data, title) in enumerate(zip([x_train_, x_test_]\n",
        "                                          , ['Train', 'Validation'])\n",
        "                                        ):\n",
        "    n = 10 \n",
        "    fig, ax = plt.subplots(n, 2, figsize=(10, 4 * n))\n",
        "    fig.suptitle(title, fontsize=16)\n",
        "    ind = 0\n",
        "    decoded = sess.run(get_x_mean(x_decoded), feed_dict={x: data[:batch_size, :]})\n",
        "    for i in range(n):\n",
        "        ax[i][0].imshow(data[i, :].reshape(w_dim, h_dim, c_dim))\n",
        "        ax[i][1].imshow(decoded[i, :original_dim].reshape(w_dim, h_dim, c_dim))\n",
        "        ax[i][0].set_title('Input')\n",
        "        ax[i][1].set_title('Mean Decode')\n",
        "        ax[i][0].axis('off')\n",
        "        ax[i][1].axis('off')\n",
        "plt.show()"
      ],
      "metadata": {
        "id": "_u5Z1ji912ol"
      },
      "execution_count": null,
      "outputs": []
    },
    {
      "cell_type": "code",
      "source": [
        "fig, ax = plt.subplots(figsize = (15, 10))\n",
        "\n",
        "\n",
        "train_loss =  hist5.history['loss']\n",
        "\n",
        "plt.plot(train_loss, label = 'Train Loss')\n",
        "\n",
        "\n",
        "test_loss = hist5.history['val_loss']\n",
        "\n",
        "plt.plot(test_loss, label = 'Test Loss')\n",
        "plt.legend()\n"
      ],
      "metadata": {
        "id": "6DFZZOLF12on"
      },
      "execution_count": null,
      "outputs": []
    },
    {
      "cell_type": "markdown",
      "metadata": {
        "id": "CJ-LHljrINj5"
      },
      "source": [
        "## Создание новых данных\n",
        "**Задание 4** Написать код для создания новых образцов изображений из обученного VAE. Для этого нужно выбрать из априорного распределения $p(t)$, а затем из вероятности $p(x \\mid t)$.\n",
        "\n",
        "**Обратите внимание**, что выборка, которую вы записали в Задаче 2, относится к вариационному распределению $q(t \\mid x)$, а здесь вам нужно взять исходную выборку."
      ]
    },
    {
      "cell_type": "code",
      "execution_count": null,
      "metadata": {
        "id": "MgcaD6a8INj6"
      },
      "outputs": [],
      "source": [
        "n_samples = 10  # To pass automatic grading please use at least 2 samples here.\n",
        "# YOUR CODE HERE.\n",
        "# ...\n",
        "# sampled_im_mean is a tf.Tensor of size 10 x 784 with 10 random\n",
        "# images sampled from the vae model.\n",
        "_mean = tf.zeros([n_samples, original_dim], dtype=tf.float32)\n",
        "_std =tf.ones([n_samples, original_dim], dtype=tf.float32)\n",
        "t_samples = tf.random.normal([n_samples, latent_dim], mean=0, stddev=1, dtype=tf.float32)\n",
        "sampled_im_mean = get_x_mean(decoder(t_samples))"
      ]
    },
    {
      "cell_type": "code",
      "execution_count": null,
      "metadata": {
        "id": "gGEIuOsTINj7"
      },
      "outputs": [],
      "source": [
        "sampled_im_mean_np = sess.run(sampled_im_mean)\n",
        "# Show the sampled images.\n",
        "plt.figure(figsize = (15, 5))\n",
        "for i in range(n_samples):\n",
        "    ax = plt.subplot(n_samples // 5 + 1, 5, i + 1)\n",
        "    plt.imshow(sampled_im_mean_np[i, :].reshape(w_dim, h_dim, c_dim))\n",
        "    ax.axis('off')\n",
        "plt.show()"
      ]
    },
    {
      "cell_type": "markdown",
      "metadata": {
        "id": "PdSx-ezKIUoS"
      },
      "source": [
        "## Задача 5"
      ]
    },
    {
      "cell_type": "markdown",
      "metadata": {
        "id": "s7rzjUd-IUoT"
      },
      "source": [
        "\n",
        "**Задача 5.1** Здесь будет повторно внедрен CVAE модель, т.е. будут использованы  ```create_encoder``` и ```create_decoder```, определенные ранее (теперь вы можете понять, почему они принимают размер ввода в качестве аргумента ;) ). также будет использоваться слой Keras `concatenate` для объединения меток с входными данными и скрытым кодом.\n"
      ]
    },
    {
      "cell_type": "code",
      "execution_count": null,
      "metadata": {
        "id": "qE2fBdLEIUoX"
      },
      "outputs": [],
      "source": [
        "from keras.datasets import cifar10\n",
        "from PIL import Image\n",
        "(x_train, y_train), (x_test, y_test) = cifar10.load_data()\n",
        "w_dim = x_train[0].shape[0]\n",
        "h_dim = x_train[0].shape[1]\n",
        "c_dim = x_train[0].shape[2]\n",
        "\n",
        "y_train = np_utils.to_categorical(y_train)\n",
        "y_test = np_utils.to_categorical(y_test)\n",
        "\n",
        "\n",
        "x_train_ = x_train.astype('float32') / 255.\n",
        "x_test_ = x_test.astype('float32') / 255.\n",
        "\n",
        "\n",
        "x_train_ = x_train_.reshape(-1, w_dim * h_dim * c_dim)\n",
        "x_test_ = x_test_.reshape(-1, w_dim * h_dim * c_dim)\n",
        "\n",
        "tf.keras.backend.clear_session()\n",
        "tf.compat.v1.reset_default_graph()\n",
        "del vae\n",
        "\n",
        "# Start tf session so we can run code.\n",
        "#sess = tf.InteractiveSession()\n",
        "sess=tf.compat.v1.InteractiveSession()\n",
        "# Connect keras to the created session.\n",
        "K.set_session(sess)"
      ]
    },
    {
      "cell_type": "code",
      "execution_count": null,
      "metadata": {
        "id": "JRBjmr-BIUoV"
      },
      "outputs": [],
      "source": [
        "batch_size = master_batch_size\n",
        "original_dim = x_train_.shape[1] # Number of pixels in  images.\n",
        "latent_dim = 10 # d, dimensionality of the latent code t.\n",
        "intermediate_dim = 256 # Size of the hidden layer.\n",
        "epochs = 200\n",
        "\n",
        "\n",
        "x = Input(batch_shape=(batch_size, original_dim))\n",
        "label = Input(batch_shape=(batch_size, 10))\n",
        "\n",
        "def create_encoder2(input_dim):\n",
        "    # Encoder network.\n",
        "    # We instantiate these layers separately so as to reuse them later\n",
        "    encoder2 = Sequential(name='encoder2')\n",
        "    encoder2.add(InputLayer([input_dim], name = 'Inpute_encoder'))\n",
        "   # encoder.add(BatchNormalization())\n",
        "    encoder2.add(Dense(intermediate_dim, activation='relu', kernel_initializer=tf.keras.initializers.GlorotNormal(), name = 'intermediate_dim_encoder'))\n",
        "    # encoder.add(Dense(intermediate_dim // 2, activation='relu', kernel_initializer=tf.keras.initializers.GlorotNormal(), name = 'intermediate_dim_2_encoder'))\n",
        "    # encoder.add(Dense(intermediate_dim // 4, activation='relu', kernel_initializer=tf.keras.initializers.GlorotNormal(), name = 'intermediate_dim_4_encoder'))\n",
        "    encoder2.add(Dense(2 * latent_dim, kernel_initializer=tf.keras.initializers.GlorotNormal()))\n",
        "    return encoder2\n",
        "\n",
        "    \n",
        "\n",
        "\n",
        "get_x_mean = Lambda(lambda h: h[:, :original_dim])\n",
        "get_x_var = Lambda(lambda h: h[:, original_dim:])\n",
        "\n",
        "encoder2 = create_encoder2(original_dim + 10)\n",
        "\n",
        "get_t_mean = Lambda(lambda h: h[:, :latent_dim])\n",
        "get_t_log_var = Lambda(lambda h: h[:, latent_dim:])\n",
        "get_x =  Lambda(lambda h: h[:, :original_dim])\n",
        "h = encoder2(tf.concat([x,label], 1))\n",
        "cond_t_mean = get_t_mean(h)\n",
        "cond_t_log_var = get_t_log_var(h)\n",
        "\n",
        "# Sampling from the distribution \n",
        "#     q(t | x) = N(t_mean, exp(t_log_var))\n",
        "# with reparametrization trick.\n",
        "\n",
        "t = Lambda(sampling)([cond_t_mean, cond_t_log_var])\n",
        "\n",
        "# Sampling from the distribution \n",
        "#     q(t | x) = N(t_mean, exp(t_log_var))\n",
        "# with reparametrization trick.\n",
        "def sampling(args):\n",
        "    \"\"\"Returns sample from a distribution N(args[0], diag(args[1]))\n",
        "    \n",
        "    The sample should be computed with reparametrization trick.\n",
        "    \n",
        "    The inputs are tf.Tensor\n",
        "        args[0]: (batch_size x latent_dim) mean of the desired distribution\n",
        "        args[1]: (batch_size x latent_dim) logarithm of the variance vector of the desired distribution\n",
        "    \n",
        "    Returns:\n",
        "        A tf.Tensor of size (batch_size x latent_dim), the samples.\n",
        "    \"\"\"\n",
        "    t_mean, t_log_var = args\n",
        "    t_std = tf.exp(0.5*t_log_var)\n",
        "    #print(t_std)\n",
        "    eps = tf.random.normal(t_mean.shape, mean=0, stddev=1, dtype=tf.float32)*t_std + t_mean\n",
        "    return eps\n",
        "\n",
        "    # YOUR CODE HERE\n",
        "\n",
        "\n",
        "t = Lambda(sampling)([cond_t_mean, cond_t_log_var])\n",
        "\n",
        "def create_decoder2(input_dim):\n",
        "    # Decoder network\n",
        "    # We instantiate these layers separately so as to reuse them later\n",
        "    decoder2 = Sequential(name='decoder2')\n",
        "    decoder2.add(InputLayer([input_dim], name = 'Inpute_decoder2'))\n",
        "    # decoder.add(Dense(intermediate_dim // 4, activation='relu', kernel_initializer=tf.keras.initializers.GlorotNormal(), name = 'intermediate_dim_4_decoder'))\n",
        "    # decoder.add(Dense(intermediate_dim // 2, activation='relu', kernel_initializer=tf.keras.initializers.GlorotNormal(), name = 'intermediate_dim_2_decodder'))\n",
        "    decoder2.add(Dense(intermediate_dim, activation='relu', kernel_initializer=tf.keras.initializers.GlorotNormal(), name = 'intermediate_dim_encoider'))\n",
        "    decoder2.add(Dense(2*original_dim, activation='sigmoid', kernel_initializer=tf.keras.initializers.GlorotNormal()))\n",
        "    return decoder2\n",
        "\n",
        "\n",
        "\n",
        "\n",
        "\n",
        "\n",
        "\n",
        "\n",
        "\n",
        "    \n",
        "decoder2 = create_decoder2(latent_dim + 10)\n",
        "cond_x_decoded = decoder2(tf.concat([t,label] ,1))\n",
        "cond_x_decoded_mean = get_x_mean(cond_x_decoded)\n",
        "cond_x_decoded_var = get_x_var(cond_x_decoded)\n",
        "\n"
      ]
    },
    {
      "cell_type": "code",
      "source": [
        "def vlb_binomial(x, x_decoded_mean,  x_decoded_var, t_mean, t_log_var):\n",
        "    \"\"\"Returns the value of negative Variational Lower Bound\n",
        "    \n",
        "    The inputs are tf.Tensor\n",
        "        x: (batch_size x number_of_pixels) matrix with one image per row with zeros and ones\n",
        "        x_decoded_mean: (batch_size x number_of_pixels) mean of the distribution p(x | t), real numbers from 0 to 1\n",
        "        t_mean: (batch_size x latent_dim) mean vector of the (normal) distribution q(t | x)\n",
        "        t_log_var: (batch_size x latent_dim) logarithm of the variance vector of the (normal) distribution q(t | x)\n",
        "    \n",
        "    Returns:\n",
        "        A tf.Tensor with one element (averaged across the batch), VLB\n",
        "    \"\"\"\n",
        "\n",
        "    #cce = tf.keras.losses.CategoricalCrossentropy(axis=1)\n",
        "    t_var =  tf.exp(t_log_var)\n",
        "    kl = -t_log_var/2.0 + (t_var + t_mean**2 - 1)/2.0\n",
        "    kl = tf.reduce_sum(kl, axis=1)\n",
        "    batch_size = x.shape[0]\n",
        "    number_of_pixels = x.shape[1]\n",
        "    latend_dim = t_mean.shape[1]\n",
        "\n",
        "    two_pi = tf.constant(2.0 * np.pi)      \n",
        "    #log_p = tf.keras.losses.binary_crossentropy(x, x_decoded_mean)                                                                                                                        \n",
        "    #log_p = -number_of_pixels/ 2.0 * tf.math.log(two_pi * tf.math.pow(x_decoded_var, 2.0) + 1e-6) -  tf.math.reduce_euclidean_norm(x_decoded_mean - x, axis=0) / (2.0 * tf.math.pow(x_decoded_var, 2.0)  + 1.0 * 1e-6)\n",
        "    log_p = -0.5 * (tf.math.log(two_pi) + tf.math.log(x_decoded_var + 1e-6) + tf.math.log(x_decoded_var + 1e-6) +  tf.math.divide_no_nan(tf.math.pow(tf.math.reduce_euclidean_norm(x_decoded_mean - x, axis=0), 2.0) , tf.math.pow(x_decoded_var, 2.0)) + 1.0 * 1e-6)\n",
        "    log_p = tf.reduce_sum(log_p, axis=1) \n",
        "\n",
        "    #result = tf.reduce_mean(number_of_pixels*log_p - kl) \n",
        "    result = tf.reduce_mean(log_p - kl) #* (x_train_.shape[0] / master_batch_size )\n",
        "    \n",
        "    print(\"batch_size = {}, number_of_pixels = {} kl_size = {}\".format(batch_size, number_of_pixels, kl.shape))\n",
        "    return -result"
      ],
      "metadata": {
        "id": "tsO7_JkfI31S"
      },
      "execution_count": null,
      "outputs": []
    },
    {
      "cell_type": "markdown",
      "metadata": {
        "id": "YA4tLOn-IUoY"
      },
      "source": [
        "## Определение функции ошибки и модели"
      ]
    },
    {
      "cell_type": "code",
      "execution_count": null,
      "metadata": {
        "id": "LB_tFr6tIUoZ"
      },
      "outputs": [],
      "source": [
        "conditional_loss = vlb_binomial(x, cond_x_decoded_mean , cond_x_decoded_var, cond_t_mean, cond_t_log_var)\n",
        "cvae = Model([x, label], cond_x_decoded_mean )\n",
        "cvae.compile(optimizer=tf.keras.optimizers.RMSprop(learning_rate=0.001), loss=lambda x, y: conditional_loss)\n",
        "#cvae.compile(optimizer=tf.keras.optimizers.Adam(learning_rate=0.001, beta_1=0.9, beta_2=0.999, epsilon=1e-07,\\\n",
        "#                amsgrad=False, name='Adam'), loss=lambda x, y: loss)\n",
        "tf.keras.utils.plot_model(cvae)"
      ]
    },
    {
      "cell_type": "markdown",
      "metadata": {
        "id": "idQ5nlybIUoZ"
      },
      "source": [
        "### Обучение модели"
      ]
    },
    {
      "cell_type": "code",
      "execution_count": null,
      "metadata": {
        "id": "0jJdahh5IUoa"
      },
      "outputs": [],
      "source": [
        "save_filepath = '/tmp_cifar/checkpoint'\n",
        "\n",
        "hist = cvae.fit(x=[x_train_, y_train],\n",
        "                y=x_train_,\n",
        "                shuffle=True,\n",
        "                epochs=epochs,\n",
        "                batch_size=batch_size,\n",
        "                validation_data=([x_test_, y_test], x_test_), verbose=1, callbacks = [tf.keras.callbacks.EarlyStopping(monitor='loss', mode = \"min\", verbose = 1, patience = 10)\n",
        "                                                                                      , tf.keras.callbacks.ModelCheckpoint(filepath = save_filepath, monitor = 'val_loss', mode = 'min', verbose = 1, save_best_only=True)])\n",
        "\n"
      ]
    },
    {
      "cell_type": "code",
      "source": [
        "cvae.load_weights(save_filepath)"
      ],
      "metadata": {
        "id": "mcG4FiEvUEH5"
      },
      "execution_count": null,
      "outputs": []
    },
    {
      "cell_type": "markdown",
      "metadata": {
        "id": "NdQKLqlYIUob"
      },
      "source": [
        "### Визуализация реконструкции для обучения и проверки данных"
      ]
    },
    {
      "cell_type": "code",
      "source": [
        "cond_x_decoded = cvae.get_layer('decoder2')"
      ],
      "metadata": {
        "id": "3ZrJVZQIUIpc"
      },
      "execution_count": null,
      "outputs": []
    },
    {
      "cell_type": "code",
      "execution_count": null,
      "metadata": {
        "id": "N9U6eiF-IUob"
      },
      "outputs": [],
      "source": [
        "\n",
        "for fid_idx, (x_data, y_data, title) in enumerate(\n",
        "            zip([x_train_, x_test_], [y_train, y_test], ['Train', 'Validation'])):\n",
        "    n = 10 \n",
        "    fig, ax = plt.subplots(n, 2, figsize=(10, 4 * n))\n",
        "    fig.suptitle(title, fontsize=16)\n",
        "    ind = 0\n",
        "    decoded = sess.run(cond_x_decoded_mean,\n",
        "                       feed_dict={x: x_data[:batch_size, :],\n",
        "                                  label: y_data[:batch_size, :]})\n",
        "    for i in range(n):\n",
        "        ax[i][0].imshow(data[i, :].reshape(w_dim, h_dim, c_dim))\n",
        "        ax[i][1].imshow(decoded[i, :original_dim].reshape(w_dim, h_dim, c_dim))\n",
        "        ax[i][0].set_title('Input')\n",
        "        ax[i][1].set_title('Mean Decode')\n",
        "        ax[i][0].axis('off')\n",
        "        ax[i][1].axis('off')\n",
        "plt.show()"
      ]
    },
    {
      "cell_type": "markdown",
      "metadata": {
        "id": "8hrgZSItIUoc"
      },
      "source": [
        "## Условные новые данные\n",
        "\n",
        "**Задание 5.2** Реализовать условное моделирование из распределения $p(x \\mid t, \\text{label})$, сначала выбирая из априорного $p(t)$, а затем выбирая из вероятности $p(x \\mid т, \\text{метка})$."
      ]
    },
    {
      "cell_type": "code",
      "execution_count": null,
      "metadata": {
        "id": "fxSSW6JbIUoe"
      },
      "outputs": [],
      "source": [
        "# Prepare one hot labels of form\n",
        "#   0 0 0 0 0 1 1 1 1 1 2 2 2 2 2 ...\n",
        "# to sample five zeros, five ones, etc\n",
        "n_samples = 50\n",
        "curr_labels = np.eye(10)\n",
        "curr_labels = np.repeat(curr_labels, 5, axis=0)  # Its shape is 50 x 10.\n",
        "# YOUR CODE HERE.\n",
        "# ...\n",
        "# cond_sampled_im_mean is a tf.Tensor of size 50 x 784 with 5 random zeros,\n",
        "# then 5 random ones, etc sampled from the cvae model.\n",
        "#curr_labels.tolist()"
      ]
    },
    {
      "cell_type": "code",
      "execution_count": null,
      "metadata": {
        "id": "wKu3i5QwIUoe"
      },
      "outputs": [],
      "source": [
        "_mean = tf.zeros([n_samples, original_dim], dtype=tf.float32)\n",
        "_std =tf.ones([n_samples, original_dim], dtype=tf.float32)\n",
        "t_samples = tf.random.normal([n_samples, latent_dim], mean=0, stddev=1, dtype=tf.float32)\n",
        "curr_labels_tensor = tf.convert_to_tensor(curr_labels.tolist())\n",
        "cond_sampled_im_mean = decoder2(tf.concat([t_samples, curr_labels_tensor],1))"
      ]
    },
    {
      "cell_type": "code",
      "execution_count": null,
      "metadata": {
        "id": "FwsUfQ1RIUoe"
      },
      "outputs": [],
      "source": [
        "cond_sampled_im_mean_np = sess.run(cond_sampled_im_mean)\n",
        "# Show the sampled images.\n",
        "plt.figure(figsize=(10, 10))\n",
        "global_idx = 0\n",
        "for digit in range(10):\n",
        "    for _ in range(5):\n",
        "        ax = plt.subplot(10, 5, global_idx + 1)\n",
        "        plt.imshow(cond_sampled_im_mean_np[global_idx, :original_dim].reshape(32, 32, 3))\n",
        "        ax.axis('off')\n",
        "        global_idx += 1\n",
        "plt.show()"
      ]
    },
    {
      "cell_type": "code",
      "source": [
        "fig, ax = plt.subplots(figsize = (15, 10))\n",
        "\n",
        "\n",
        "train_loss = np.concatenate([hist.history['loss'], hist2.history['loss']])\n",
        "\n",
        "plt.plot(train_loss, label = 'Train Loss')\n",
        "\n",
        "\n",
        "test_loss = np.concatenate([hist.history['val_loss'], hist2.history['val_loss']])\n",
        "\n",
        "plt.plot(test_loss, label = 'Test Loss')\n",
        "plt.legend()\n"
      ],
      "metadata": {
        "id": "zMZSbVeVkwD5"
      },
      "execution_count": null,
      "outputs": []
    },
    {
      "cell_type": "markdown",
      "metadata": {
        "id": "-PndziE0lQOL"
      },
      "source": [
        "**Обязательная часть**\n",
        "* Повторить задание 1-4 для смеси распределений Гаусса (см. лекцию). Добавить раннюю остановку (early stopping)\n",
        "* Получить выражение для VLB (Задание 1)\n",
        "* Изучить влияние параметров на качество восстановления (Поварьировать параметры обучения, структуру сетей и пр.) \n",
        "\n",
        "**Дополнительно**\n",
        "* Повторить задание 5\n",
        "* Изучить влияние параметров на качество восстановления (Поварьировать параметры обучения, структуру сетей и пр.) \n",
        "* Реализовать для 1-5 сверточные слои в нейронной сети. Проанализировать результат."
      ]
    },
    {
      "cell_type": "code",
      "source": [
        ""
      ],
      "metadata": {
        "id": "iFmoB1aS3KIZ"
      },
      "execution_count": null,
      "outputs": []
    }
  ],
  "metadata": {
    "accelerator": "GPU",
    "colab": {
      "collapsed_sections": [],
      "name": "Копия блокнота \"lr2 .ipynb\"",
      "provenance": []
    },
    "interpreter": {
      "hash": "1da112943956fe70477526553c53af9fb2cedd581d0861db4fbae19f01c96c83"
    },
    "kernelspec": {
      "display_name": "Python 3.8.13 ('tensflow')",
      "language": "python",
      "name": "python3"
    },
    "language_info": {
      "codemirror_mode": {
        "name": "ipython",
        "version": 3
      },
      "file_extension": ".py",
      "mimetype": "text/x-python",
      "name": "python",
      "nbconvert_exporter": "python",
      "pygments_lexer": "ipython3",
      "version": "3.8.13"
    }
  },
  "nbformat": 4,
  "nbformat_minor": 0
}