{
 "cells": [
  {
   "cell_type": "markdown",
   "metadata": {
    "id": "WMlNHfVxBEDT"
   },
   "source": [
    "# EM - алгоритм"
   ]
  },
  {
   "cell_type": "markdown",
   "metadata": {},
   "source": [
    "Загрузим необходимые библиотеки."
   ]
  },
  {
   "cell_type": "code",
   "execution_count": 1,
   "metadata": {
    "id": "urylZcbeBEDc"
   },
   "outputs": [],
   "source": [
    "import numpy as np\n",
    "from numpy.linalg import slogdet, det, solve\n",
    "import matplotlib.pyplot as plt\n",
    "import time\n",
    "from sklearn.datasets import load_digits\n",
    "%matplotlib inline"
   ]
  },
  {
   "cell_type": "markdown",
   "metadata": {
    "id": "dL3A2sntBEDj"
   },
   "source": [
    "## EM для GMM"
   ]
  },
  {
   "cell_type": "markdown",
   "metadata": {
    "id": "0xPS_VdpBEDk"
   },
   "source": [
    "Исходные данные для модели:"
   ]
  },
  {
   "cell_type": "code",
   "execution_count": 2,
   "metadata": {
    "id": "g9_aOn94BEDl"
   },
   "outputs": [
    {
     "data": {
      "image/png": "[encoded data removed]",
      "text/plain": [
       "<Figure size 432x288 with 1 Axes>"
      ]
     },
     "metadata": {
      "needs_background": "light"
     },
     "output_type": "display_data"
    }
   ],
   "source": [
    "samples = np.load('samples.npz')\n",
    "X = samples['data']\n",
    "#pi0 = samples['pi0']\n",
    "mu0 = samples['mu0']\n",
    "sigma0 = samples['sigma0']\n",
    "plt.scatter(X[:, 0], X[:, 1], c='grey', s=30)\n",
    "plt.axis('equal')\n",
    "plt.show()"
   ]
  },
  {
   "cell_type": "markdown",
   "metadata": {
    "id": "AmgeHTCfBEDp"
   },
   "source": [
    "### EM "
   ]
  },
  {
   "cell_type": "markdown",
   "metadata": {
    "id": "RgAwWi1nBEDq"
   },
   "source": [
    "EM-алгоритм представляет собой оптимизацию нижней границы. $\\mathcal{L}(\\theta, q) = \\int q(T) \\log\\frac{p(X, T|\\theta)}{q(T)}dT\\to \\max$.\n",
    "\n",
    "<b>E-step</b>:<br>\n",
    "$\\mathcal{L}(\\theta, q) \\to \\max\\limits_{q} \\Leftrightarrow \\mathcal{KL} [q(T) \\,\\|\\, p(T|X, \\theta)] \\to \\min \\limits_{q\\in Q} \\Rightarrow q(T) = p(T|X, \\theta)$<br>\n",
    "<b>M-step</b>:<br> \n",
    "$\\mathcal{L}(\\theta, q) \\to \\max\\limits_{\\theta} \\Leftrightarrow \\mathbb{E}_{q(T)}\\log p(X,T | \\theta) \\to \\max\\limits_{\\theta}$\n",
    "\n",
    "Для GMM, $\\theta$ это набор параметров: математические ожидания $\\mu_c$, ковариационные матрицы $\\Sigma_c$ и априорное распределение  $\\pi_c$ для каждой компоненты.\n",
    "\n",
    "Cкрытые переменные $T$ — это индексы компонентов, которым соответствует каждая точка данных, т. е. $t_i$ — индекс кластера для объекта $x_i$.\n",
    "\n",
    "Совместное распределение: \n",
    "$$\n",
    "\\log p(X, T \\mid \\theta) =  \\sum\\limits_{i=1}^N \\log p(x_i, t_i=c \\mid \\theta) = \\sum\\limits_{i=1}^N \\log \\pi_c \\, f_{\\!\\mathcal{N}}(x_i \\mid \\mu_c, \\Sigma_c),$$\n",
    "где $f_{\\!\\mathcal{N}}(x \\mid \\mu_c, \\Sigma_c) = \\frac{1}{\\sqrt{(2\\pi)^n|\\boldsymbol\\Sigma_c|}}\n",
    "\\exp\\left(-\\frac{1}{2}({x}-{\\mu_c})^T{\\boldsymbol\\Sigma_c}^{-1}({x}-{\\mu_c})\n",
    "\\right)$ плотности нормального з.р. $\\mathcal{N}(x_i \\mid \\mu_c, \\Sigma_c)$."
   ]
  },
  {
   "cell_type": "markdown",
   "metadata": {
    "id": "ELmi1nAtBEDr"
   },
   "source": [
    "### E-step\n",
    "На этом шаге нам нужно оценить апостериорное распределение по скрытым переменным с фиксированными значениями параметров: $q_i(t_i) = p(t_i \\mid x_i, \\theta)$. Мы предполагаем, что $t_i$ равен кластерному индексу истинной компоненты объекта $x_i$. Для этого нам нужно вычислить $\\gamma_{ic} = p(t_i = c \\mid x_i, \\theta)$. Обратите внимание, что $\\sum\\limits_{c=1}^C\\gamma_{ic}=1$. \n"
   ]
  },
  {
   "cell_type": "markdown",
   "metadata": {},
   "source": [
    "$$\n",
    "\\gamma_{ic} = p(t_i = c \\mid x_i, \\theta) = \\frac{p(x_i\\mid t_i=c,\\theta) p(t_i=c\\mid\\theta)}{Z} = \\frac{f_{\\cal N}(x_i\\mid \\mu_c,\\Sigma_c)\\pi_c}{Z} = \\frac{1}{Z\\sqrt{(2\\pi)^n|\\boldsymbol\\Sigma_c|}}\n",
    "\\exp\\left(-\\frac{1}{2}({x}-{\\mu_c})^T{\\boldsymbol\\Sigma_c}^{-1}({x}-{\\mu_c})\n",
    "\\right)\\pi_c\n",
    "$$\n",
    "где $Z$ -  нормировочная константа.\n",
    "$$\n",
    "Z = \\sum_c p(x_i\\mid t_i=c,\\theta) p(t_i=c\\mid\\theta)\n",
    "$$"
   ]
  },
  {
   "cell_type": "markdown",
   "metadata": {
    "id": "53FR1RJ9BEDs"
   },
   "source": [
    "<b>Важный трюк 1:</b> важно избегать числовых ошибок. В какой-то момент вам придется вычислить формулу следующего вида: $\\frac{e^{y_i}}{\\sum_j e^{y_j}}$, которая называется _softmax_. Когда вы вычисляете показатели степени больших чисел, некоторые числа могут стать бесконечными. Этого можно избежать, разделив числитель и знаменатель на $e^{\\max(y)}$: \n",
    "$$\n",
    "\\frac{e^{y_i-\\max(y)}}{\\sum_j e^{y_j - \\max(y) )}}.\n",
    "$$ \n",
    "После этого преобразования максимальное значение в знаменателе будет равно единице. Все остальные члены будут вносить меньшие значения. Итак, чтобы вычислить нужную формулу, вы сначала вычитаете максимальное значение из каждой компоненты в векторе $\\mathbf{y}$, а затем вычисляете все остальное, как и раньше.\n",
    "\n",
    "<b>Важный трюк 2:</b> в какой-то момент вам, вероятно, понадобится вычислить формулу вида $A^{-1}x$. Обычно вы инвертируете $A$, а затем умножаете его на $x$. Немного более быстрый и численно более точный способ сделать это — напрямую решить уравнение $Ay = x$ с помощью специальной функции. Его решение есть $y=A^{-1}x$, но уравнение $Ay = x$ можно решить методами, не обращающими явно матрицу. Для этого вы можете использовать ```np.linalg.solve```.\n",
    "\n",
    "<b>Другие полезные функции: </b> <a href=\"https://docs.scipy.org/doc/numpy/reference/generated/numpy.linalg.slogdet.html\">```slogdet``` </a> и <a href=\"https://docs.scipy.org/doc/numpy/reference/generated/numpy.linalg.det.html#numpy.linalg.det\">```det``` </a>"
   ]
  },
  {
   "cell_type": "markdown",
   "metadata": {
    "id": "KL87Q8-TBEDu"
   },
   "source": [
    "## Реализация E-шаг"
   ]
  },
  {
   "cell_type": "code",
   "execution_count": 3,
   "metadata": {
    "id": "wCUCaD28BEDw"
   },
   "outputs": [],
   "source": [
    "def calc_norm_pow(x, mu, sigma):    \n",
    "    y = x - mu\n",
    "    u = np.linalg.solve(sigma, y)\n",
    "    return u.dot(y)/2\n",
    "\n",
    "def norm_prob(sigma, norm_pow, y_max):\n",
    "    d = sigma.shape[0]\n",
    "    const = 1/((2*np.pi)**(d/2)*np.sqrt(np.linalg.det(sigma))) \n",
    "\n",
    "    return const*np.exp(-norm_pow + y_max)\n",
    "        \n",
    "\n",
    "def E_step(X, pi, mu, sigma):\n",
    "    \"\"\"\n",
    "    Performs E-step on GMM model\n",
    "    Each input is numpy array:\n",
    "    X: (N x d), data points\n",
    "    pi: (C), mixture component weights \n",
    "    mu: (C x d), mixture component means\n",
    "    sigma: (C x d x d), mixture component covariance matrices\n",
    "    \n",
    "    Returns:\n",
    "    gamma: (N x C), probabilities of clusters for objects\n",
    "    \"\"\"\n",
    "    N = X.shape[0] # number of objects\n",
    "    C = pi.shape[0] # number of clusters\n",
    "    d = mu.shape[1] # dimension of each object\n",
    "    gamma = np.zeros((N, C)) # distribution q(T)\n",
    "    \n",
    "    norm_pow = np.zeros((N,C))#gamma[:,:] = p(np.arange(C), X, (pi, mu, sigma))\n",
    "    for i in range(C):\n",
    "        for j in range(N):\n",
    "            norm_pow[j,i] = calc_norm_pow(X[j,:], mu[i,:].T, sigma[i,:,:])\n",
    "    y_max = np.max(norm_pow, axis=1)\n",
    "    for i in range(C):\n",
    "        for j in range(N):\n",
    "            gamma[j,i] = norm_prob(sigma[i,:,:], norm_pow[j,i], y_max[j])*pi[i]\n",
    "    den = np.sum(gamma, axis=1)\n",
    "    #print(den.shape)\n",
    "    for i in range(C):\n",
    "        gamma[:,i] = gamma[:,i]/den\n",
    "    return gamma"
   ]
  },
  {
   "cell_type": "markdown",
   "metadata": {
    "id": "fERrQWSCBED5"
   },
   "source": [
    "## M-шаг\n",
    "\n",
    "На M-шаге нам нужно максимизировать $\\mathbb{E}_{q(T)}\\log p(X,T | \\theta)$ по $\\theta$. В нашей модели это означает, что нам нужно найти оптимальные значения $\\pi$, $\\mu$, $\\Sigma$. Для этого нужно вычислить производные и\n",
    "установить их на ноль. Вы должны начать с вывода формул для $\\mu$, так как это самая простая часть. Затем перейдите к $\\Sigma$. Здесь крайне важно оптимизировать функцию относительно. к $\\Lambda = \\Sigma^{-1}$, а затем инвертировать полученный результат. Наконец, чтобы вычислить $\\pi$, вам понадобится <a href=\"https://www3.nd.edu/~jstiver/FIN360/Constrained%20Optimization.pdf\">техника множителей Лагранжа</a> для удовлетворения ограничения $ \\sum\\limits_{i=1}^{n}\\pi_i = 1$.\n",
    "\n",
    "<br>\n",
    "<b>Замечание.</b> Вам потребуется вычислить производные матричных функций. Вспомнить как это делается можно тут <a href=\"https://en.wikipedia.org/wiki/Matrix_calculus\"> вики-статью</a> об этом . Основные формулы матричных производных можно найти в <a href=\"http://www2.imm.dtu.dk/pubdb/views/edoc_download.php/3274/pdf/imm3274.pdf\">Главе 2 The Matrix Cookbook</a>. Например, там вы можете обнаружить, что $\\frac{\\partial}{\\partial A}\\log |A| = А^{-Т}$. \n"
   ]
  },
  {
   "cell_type": "markdown",
   "metadata": {},
   "source": [
    "Функция Лагранжа для M-шага: $L(\\theta) = \\mathbb{E}_{q(T)}\\log p(X,T | \\theta) + \\lambda(1-\\sum\\limits_{c=1}^C\\pi_c)$\n",
    "$$\n",
    "L(\\theta) = \\mathbb{E}_{q(T)}\\log p(X,T | \\theta) + \\lambda(1-\\sum\\limits_{c=1}^C\\pi_c)=\n",
    "$$\n",
    "$$\n",
    "=\\sum\\limits_{i=1}^N \\sum\\limits_{c=1}^C q(t_i = c) \\log \\left (\\pi_c \\, f_{\\!\\mathcal{N}}(x_i \\mid \\mu_c, \\Sigma_c)\\right)  + \\lambda(1-\\sum\\limits_{c=1}^C\\pi_c) =\n",
    "$$\n",
    "$$\n",
    "=  \\sum\\limits_{i=1}^N \\sum\\limits_{c=1}^C q(t_i = c) \\log \\left (\\frac{\\pi_c}{const\\sqrt{|\\Sigma^{-1}|}}\\exp\\left(-\\frac{1}{2}({x_i}-{\\mu_c})^T{\\boldsymbol\\Sigma_c}^{-1}({x_i}-{\\mu_c})\n",
    "\\right)\\right) + \\lambda(1-\\sum\\limits_{c=1}^C\\pi_c) = \n",
    "$$\n",
    "$$\n",
    "= \\sum\\limits_{i=1}^N \\sum\\limits_{c=1}^C q(t_i = c) \\left[\\log \\left (\\frac{\\pi_c}{const\\sqrt{|\\Sigma^{-1}|}}\\right)-\\frac{1}{2}({x_i}-{\\mu_c})^T{\\boldsymbol\\Sigma_c}^{-1}({x_i}-{\\mu_c})\n",
    "\\right]  + \\lambda(1-\\sum\\limits_{c=1}^C\\pi_c)$$\n",
    "\n",
    "\n",
    "Сделаем замену $\\Lambda = \\Sigma^{-1}$. Далее рассмотрим необходимые условия максимума для гладкой целевой функции ($\\dfrac{\\partial J}{\\partial \\theta} = 0$):\n",
    "$$\n",
    "\\frac{\\partial J}{\\partial \\mu_c} = \\sum\\limits_{i=1}^N q(t_i = c) \\Lambda_c    ({x_i}-{\\mu_c}) = 0 \\Rightarrow\n",
    "$$\n",
    "$$\n",
    " \\sum\\limits_{i=1}^N q(t_i = c) \\Lambda_c    {x_i} = \\mu_c\\sum\\limits_{i=1}^N q(t_i = c) \\Lambda_c\\Rightarrow\n",
    "$$\n",
    "\n",
    "$$\n",
    "\\mu_c = \\frac1{\\sum\\limits_{i=1}^N q(t_i = c)}\\sum\\limits_{i=1}^N q(t_i = c) x_i\n",
    "$$\n",
    "$$\n",
    "\\frac{\\partial J}{\\partial \\Lambda} = \\frac12\\sum\\limits_{i=1}^N q(t_i = c){\\Lambda^{-T}}- \\frac12\\sum\\limits_{i=1}^N q(t_i = c)     ({x_i}-{\\mu_c})^T({x_i}-{\\mu_c}) = 0\\Rightarrow\n",
    "$$\n",
    "$$\n",
    "\\Sigma_c = \\frac1{\\sum\\limits_{i=1}^N q(t_i = c)}\\sum\\limits_{i=1}^N q(t_i = c)  ({x_i}-{\\mu_c})^T({x_i}-{\\mu_c})\n",
    "$$\n",
    "\n",
    "$$\n",
    "\\frac{\\partial L}{\\partial \\pi_c} = \\sum\\limits_{i=1}^N \\frac1{\\pi_c} q(t_i = c) - \\lambda = 0\\Rightarrow\n",
    "$$\n",
    "$$\n",
    "\\lambda \\pi_c\\ = \\sum\\limits_{i=1}^N q(t_i = c)\\Rightarrow\n",
    "$$\n",
    "$$\n",
    "\\pi_c = \\frac{\\sum\\limits_{i=1}^N q(t_i = c)}{\\lambda} = \\frac{\\sum\\limits_{i=1}^N q(t_i = c)}{\\lambda} = \\frac{\\sum\\limits_{i=1}^N q(t_i = c)}{\\sum\\limits_{i=1}^N\\sum\\limits_{c=1}^C q(t_i = c)} =  \\frac{\\sum\\limits_{i=1}^N q(t_i = c)}{N}                   \n",
    "$$"
   ]
  },
  {
   "cell_type": "markdown",
   "metadata": {
    "id": "A31OYSogBED6"
   },
   "source": [
    "## Реализация M-шаг"
   ]
  },
  {
   "cell_type": "code",
   "execution_count": 5,
   "metadata": {
    "id": "mhOr5I1bBED7"
   },
   "outputs": [],
   "source": [
    "def M_step(X, gamma):\n",
    "    \"\"\"\n",
    "    Performs M-step on GMM model\n",
    "    Each input is numpy array:\n",
    "    X: (N x d), data points\n",
    "    gamma: (N x C), distribution q(T)  \n",
    "    \n",
    "    Returns:\n",
    "    pi: (C)\n",
    "    mu: (C x d)\n",
    "    sigma: (C x d x d)\n",
    "    \"\"\"\n",
    "    N = X.shape[0] # number of objects\n",
    "    C = gamma.shape[1] # number of clusters\n",
    "    d = X.shape[1] # dimension of each object\n",
    "\n",
    "    sigma = np.zeros((C,d,d))\n",
    "    \n",
    "    pi = np.sum(gamma, axis=0)/N\n",
    "    mu = np.zeros((C,d))#gamma.T.dot(X)\n",
    "    for i in range(C):\n",
    "            mu[i,:] = gamma[:,i].dot(X)\n",
    "    for i in range(C):\n",
    "        den = np.sum(gamma[:, i])\n",
    "        mu[i,:] = mu[i,:]/den    \n",
    "    for i in range(C):\n",
    "        for j in range(N):\n",
    "            y = (X[j,:] - mu[i,:]).reshape(d,1)\n",
    "            #print(mu[i,:])\n",
    "            sigma[i,:,:] += gamma[j,i]*y.dot(y.T)\n",
    "    \n",
    "    for i in range(C):\n",
    "        den = np.sum(gamma[:, i])\n",
    "        sigma[i,:,:] = sigma[i,:,:]/den\n",
    "        #print(den)\n",
    "    \n",
    "\n",
    "    return pi, mu, sigma"
   ]
  },
  {
   "cell_type": "markdown",
   "metadata": {
    "id": "svyzjt7XBEEC"
   },
   "source": [
    "### Функция потерь"
   ]
  },
  {
   "cell_type": "markdown",
   "metadata": {
    "id": "qexOXBLUBEED"
   },
   "source": [
    "Наконец, нам нужна функция для отслеживания сходимости. Для этой цели мы будем использовать вариационную нижнюю границу $\\mathcal{L}$. Мы остановим наши итерации EM, когда $\\mathcal{L}$ перестанет сильно изменяться.  Также полезно проверить, что эта функция никогда не уменьшается во время тренировки. Если это так, у вас есть ошибка в вашем коде.\n",
    "\n",
    "<b>Реализуем функцию, которая будет вычислять $\\mathcal{L}$</b> \n",
    "\n",
    "$$\\mathcal{L}(\\theta, q) = \\mathbb{E}_{q(T)}\\log \\frac{p(X,T | \\theta)}{q(T|\\theta)} =  \\sum_{i=1}^{N} \\sum_{c=1}^{C} q(t_i =c) (\\log \\pi_c + \\log f_{\\!\\mathcal {N}}(x_i \\mid \\mu_c, \\Sigma_c)) - \\sum_{i=1}^{N} \\sum_{c=1}^{C} q(t_i =c) \\log q(t_i = с)$$ "
   ]
  },
  {
   "cell_type": "code",
   "execution_count": 7,
   "metadata": {
    "id": "B5tKCZe0BEEE"
   },
   "outputs": [],
   "source": [
    "def compute_vlb(X, pi, mu, sigma, gamma):\n",
    "    \"\"\"\n",
    "    Each input is numpy array:\n",
    "    X: (N x d), data points\n",
    "    gamma: (N x C), distribution q(T)  \n",
    "    pi: (C)\n",
    "    mu: (C x d)\n",
    "    sigma: (C x d x d)\n",
    "    \n",
    "    Returns value of variational lower bound\n",
    "    \"\"\"\n",
    "    N = X.shape[0] # number of objects\n",
    "    C = gamma.shape[1] # number of clusters\n",
    "    d = X.shape[1] # dimension of each object\n",
    "\n",
    "\n",
    "    l1 = 0\n",
    "    l2 = 0\n",
    "    for i in range(C):\n",
    "        for j in range(N):\n",
    "            const = 1/((2*np.pi)**(d/2)*np.sqrt(np.linalg.det(sigma[i,:,:]))) \n",
    "            y = X[j,:] - mu[i,:]\n",
    "            u = np.linalg.solve(sigma[i,:,:], y)\n",
    "            l1 +=  gamma[j,i]*(np.log(pi[i]) + np.log(const) - u.dot(y)/2)\n",
    "            l2 += gamma[j,i]*np.log(gamma[j,i])\n",
    "    #        print(\"l1=\",l2)\n",
    "    loss = l1 - l2\n",
    "    print(\"loss = \", loss)\n",
    "\n",
    "    return loss"
   ]
  },
  {
   "cell_type": "markdown",
   "metadata": {
    "id": "I5p8XC-eBEEM"
   },
   "source": [
    "### Объеденим шаги"
   ]
  },
  {
   "cell_type": "markdown",
   "metadata": {
    "id": "cQsdsNVCBEEU"
   },
   "source": [
    "Теперь, когда у нас есть шаг E, шаг M и VLB, мы можем реализовать тренировочный цикл. Мы будем инициализировать значения $\\pi$, $\\mu$ и $\\Sigma$ некоторыми случайными числами, обучать до тех пор, пока $\\mathcal{L}$ не перестанет меняться, и возвращать полученные точки. Мы также знаем, что алгоритм EM сходится к локальным оптимумам. Чтобы найти лучшие локальные оптимумы, мы перезапустим алгоритм несколько раз с разных (случайных) начальных позиций. Каждое тренировочное испытание должно останавливаться либо при достижении максимального количества итераций, либо когда относительное улучшение становится меньше заданного допуска $$\\left|\\frac{\\mathcal{L}_i-\\mathcal{L}_{i-1}}{\\mathcal {L}_{i-1}}\\right| \\le \\text{rtol}$$.\n",
    "\n",
    "Начальные (случайные) значения $\\pi$, должны быть неотрицательными и в сумме давать 1. Кроме того, матрицы $\\Sigma$ должны быть симметричными и положительно полуопределенными. \n",
    "\n",
    "\n",
    "<b>Внедрение процедуры обучения</b> "
   ]
  },
  {
   "cell_type": "code",
   "execution_count": 9,
   "metadata": {
    "id": "Q1AAcyl0BEEW"
   },
   "outputs": [],
   "source": [
    "def rand_pi(C):\n",
    "    pi = np.zeros(C)\n",
    "    pi = np.random.rand(C)\n",
    "    pi = pi/np.sum(pi)\n",
    "    return pi\n",
    "\n",
    "def rand_mu(X, d, C, N):\n",
    "    return np.random.multivariate_normal(np.mean(X,axis=0), np.cov(X.T),C)\n",
    "\n",
    "def rand_sigma(X, d, C, N):\n",
    "    sigma = np.zeros((C,d,d))\n",
    "    for i in range(C):\n",
    "        XX = np.random.multivariate_normal(np.mean(X,axis=0), np.cov(X.T),10)\n",
    "        #print(\"cov  = \", np.cov(XX.T))\n",
    "        c = np.cov(XX.T)\n",
    "        sigma[i,:,:] = c\n",
    "        \n",
    "        print(f'Min eigvals for init matrix: {np.min(np.linalg.eigvals(c))}')\n",
    "    return sigma\n",
    "\n",
    "\n",
    "def train_EM(X, C, rtol=1e-3, max_iter=100, restarts=10):\n",
    "    '''\n",
    "    Starts with random initialization *restarts* times\n",
    "    Runs optimization until saturation with *rtol* reached\n",
    "    or *max_iter* iterations were made.\n",
    "    \n",
    "    X: (N, d), data points\n",
    "    C: int, number of clusters\n",
    "    '''\n",
    "    N = X.shape[0] # number of objects\n",
    "    d = X.shape[1] # dimension of each object\n",
    "    best_loss = None\n",
    "    best_pi = None\n",
    "    best_mu = None\n",
    "    best_sigma = None\n",
    "    loss_prev = None\n",
    "    \n",
    "\n",
    "    for _ in range(restarts):\n",
    "        loss = None\n",
    "        curr_rel_loss = None\n",
    "        try:\n",
    "            pi0 = rand_pi(C)\n",
    "            mu0 = rand_mu(X,d,C,N)\n",
    "            sigma0 = rand_sigma(X,d,C,N) \n",
    "            loss = None\n",
    "            for i in range(max_iter):\n",
    "                pi, mu, sigma = pi0, mu0, sigma0\n",
    "                #print(sigma)\n",
    "                gamma = E_step(X, pi, mu, sigma)\n",
    "                pi, mu, sigma = M_step(X, gamma)\n",
    "                #print(sigma)\n",
    "                loss = compute_vlb(X, pi, mu, sigma, gamma)\n",
    "                pi0 = pi\n",
    "                mu0 = mu\n",
    "                sigma0 = sigma\n",
    "                if loss_prev != None:\n",
    "                    curr_rel_loss = np.abs(loss_prev - loss)/np.abs(loss_prev)\n",
    "                    loss_prev = loss\n",
    "                else:\n",
    "                    loss_prev = loss\n",
    "                if curr_rel_loss!=None and curr_rel_loss < rtol:\n",
    "                    break\n",
    "                print(f'Step: {i}')\n",
    "            if best_loss!=None:\n",
    "                if loss>best_loss:\n",
    "                    best_loss = loss\n",
    "                    best_mu = mu\n",
    "                    best_sigma = sigma\n",
    "                    best_pi = pi\n",
    "            else:\n",
    "                best_loss = loss\n",
    "                best_mu = mu\n",
    "                best_sigma = sigma\n",
    "                best_pi = pi\n",
    "                \n",
    "        except np.linalg.LinAlgError:\n",
    "            print(\"Singular matrix: components collapsed\")\n",
    "            pass\n",
    "\n",
    "    return best_loss, best_pi, best_mu, best_sigma"
   ]
  },
  {
   "cell_type": "code",
   "execution_count": 10,
   "metadata": {
    "id": "0f8A5sbmBEEZ"
   },
   "outputs": [
    {
     "name": "stdout",
     "output_type": "stream",
     "text": [
      "Min eigvals for init matrix: 2.1913889643439752\n",
      "Min eigvals for init matrix: 2.481743975484913\n",
      "Min eigvals for init matrix: 2.897017282182965\n",
      "loss =  -1218.7840706197326\n",
      "Step: 0\n",
      "loss =  -1195.7067725263157\n",
      "Step: 1\n",
      "loss =  -1168.5005058362347\n",
      "Step: 2\n",
      "loss =  -1145.4711972221191\n",
      "Step: 3\n",
      "loss =  -1135.0211290924844\n",
      "Step: 4\n",
      "loss =  -1127.4723406128942\n",
      "Step: 5\n",
      "loss =  -1121.0981296278835\n",
      "Step: 6\n",
      "loss =  -1115.5273706683167\n",
      "Step: 7\n",
      "loss =  -1110.3412169860617\n",
      "Step: 8\n",
      "loss =  -1104.9933816839778\n",
      "Step: 9\n",
      "loss =  -1098.8429441415665\n",
      "Step: 10\n",
      "loss =  -1091.9916056360282\n",
      "Step: 11\n",
      "loss =  -1085.851685132952\n",
      "Step: 12\n",
      "loss =  -1081.3283680706734\n",
      "Step: 13\n",
      "loss =  -1077.6118123237186\n",
      "Step: 14\n",
      "loss =  -1073.913413876142\n",
      "Step: 15\n",
      "loss =  -1070.6291091713265\n",
      "Step: 16\n",
      "loss =  -1068.0140698958257\n",
      "Step: 17\n",
      "loss =  -1066.4199688601993\n",
      "Step: 18\n",
      "loss =  -1065.463117068864\n",
      "Min eigvals for init matrix: 1.581296522924574\n",
      "Min eigvals for init matrix: 2.3895066364579325\n",
      "Min eigvals for init matrix: 4.292514969677188\n",
      "loss =  -1225.8555380166913\n",
      "Step: 0\n",
      "loss =  -1194.8894181949827\n",
      "Step: 1\n",
      "loss =  -1170.6492442693736\n",
      "Step: 2\n",
      "loss =  -1144.4206397726534\n",
      "Step: 3\n",
      "loss =  -1132.0528232873269\n",
      "Step: 4\n",
      "loss =  -1127.5092271818028\n",
      "Step: 5\n",
      "loss =  -1125.9848014037314\n",
      "Step: 6\n",
      "loss =  -1125.0046869069074\n",
      "Min eigvals for init matrix: 1.755010376023197\n",
      "Min eigvals for init matrix: 2.9528483316069387\n",
      "Min eigvals for init matrix: 3.215066486836563\n",
      "loss =  -1187.778526032408\n",
      "Step: 0\n",
      "loss =  -1147.658813497854\n",
      "Step: 1\n",
      "loss =  -1125.471986039386\n",
      "Step: 2\n",
      "loss =  -1107.2582426890167\n",
      "Step: 3\n",
      "loss =  -1095.487564045629\n",
      "Step: 4\n",
      "loss =  -1089.1564560872384\n",
      "Step: 5\n",
      "loss =  -1085.61689634005\n",
      "Step: 6\n",
      "loss =  -1083.0816250625585\n",
      "Step: 7\n",
      "loss =  -1080.936704743425\n",
      "Step: 8\n",
      "loss =  -1078.9899294611437\n",
      "Step: 9\n",
      "loss =  -1077.1421591369374\n",
      "Step: 10\n",
      "loss =  -1075.336574770024\n",
      "Step: 11\n",
      "loss =  -1073.5492548983025\n",
      "Step: 12\n",
      "loss =  -1071.789654297907\n",
      "Step: 13\n",
      "loss =  -1070.0920485868567\n",
      "Step: 14\n",
      "loss =  -1068.491242543787\n",
      "Step: 15\n",
      "loss =  -1067.0386185682332\n",
      "Step: 16\n",
      "loss =  -1065.8477685264363\n",
      "Step: 17\n",
      "loss =  -1064.9972550720734\n",
      "Min eigvals for init matrix: 3.773529661199261\n",
      "Min eigvals for init matrix: 3.067266327605086\n",
      "Min eigvals for init matrix: 1.0066218559328093\n",
      "loss =  -1244.0900917409501\n",
      "Step: 0\n",
      "loss =  -1225.3556768551261\n",
      "Step: 1\n",
      "loss =  -1192.2621332210067\n",
      "Step: 2\n",
      "loss =  -1165.9600126447153\n",
      "Step: 3\n",
      "loss =  -1156.6589730248943\n",
      "Step: 4\n",
      "loss =  -1147.109808829219\n",
      "Step: 5\n",
      "loss =  -1131.1790542081885\n",
      "Step: 6\n",
      "loss =  -1111.4571677704985\n",
      "Step: 7\n",
      "loss =  -1096.458602008947\n",
      "Step: 8\n",
      "loss =  -1087.73290033573\n",
      "Step: 9\n",
      "loss =  -1082.248398350563\n",
      "Step: 10\n",
      "loss =  -1077.7331421093054\n",
      "Step: 11\n",
      "loss =  -1073.6187083516168\n",
      "Step: 12\n",
      "loss =  -1070.1569792785758\n",
      "Step: 13\n",
      "loss =  -1067.597468216758\n",
      "Step: 14\n",
      "loss =  -1065.905567382885\n",
      "Step: 15\n",
      "loss =  -1064.8729163315875\n",
      "Min eigvals for init matrix: 1.8686003435570697\n",
      "Min eigvals for init matrix: 3.3643851741935187\n",
      "Min eigvals for init matrix: 3.1249096490410655\n",
      "loss =  -1170.9158468385867\n",
      "Step: 0\n",
      "loss =  -1126.31758078027\n",
      "Step: 1\n",
      "loss =  -1110.8544057065913\n",
      "Step: 2\n",
      "loss =  -1103.3787529175177\n",
      "Step: 3\n",
      "loss =  -1098.0935359682035\n",
      "Step: 4\n",
      "loss =  -1092.2674639423838\n",
      "Step: 5\n",
      "loss =  -1086.5091827054566\n",
      "Step: 6\n",
      "loss =  -1082.519452280925\n",
      "Step: 7\n",
      "loss =  -1079.659923752912\n",
      "Step: 8\n",
      "loss =  -1077.1124619018772\n",
      "Step: 9\n",
      "loss =  -1074.5334308839942\n",
      "Step: 10\n",
      "loss =  -1071.8244808707839\n",
      "Step: 11\n",
      "loss =  -1069.1297331840688\n",
      "Step: 12\n",
      "loss =  -1066.864542036513\n",
      "Step: 13\n",
      "loss =  -1065.3807150461896\n",
      "Step: 14\n",
      "loss =  -1064.5878469676834\n",
      "Min eigvals for init matrix: 1.7589558273614898\n",
      "Min eigvals for init matrix: 1.901328816229314\n",
      "Min eigvals for init matrix: 2.693794362148617\n",
      "loss =  -1219.5395537576958\n",
      "Step: 0\n",
      "loss =  -1173.53174204939\n",
      "Step: 1\n",
      "loss =  -1165.0441759801724\n",
      "Step: 2\n",
      "loss =  -1161.997051190132\n",
      "Step: 3\n",
      "loss =  -1159.0776722754513\n",
      "Step: 4\n",
      "loss =  -1155.4790923475487\n",
      "Step: 5\n",
      "loss =  -1151.2474642385907\n",
      "Step: 6\n",
      "loss =  -1147.3830685840612\n",
      "Step: 7\n",
      "loss =  -1144.2905895084368\n",
      "Step: 8\n",
      "loss =  -1141.0866240218177\n",
      "Step: 9\n",
      "loss =  -1136.8581670537828\n",
      "Step: 10\n",
      "loss =  -1131.7301100102104\n",
      "Step: 11\n",
      "loss =  -1126.0566507575306\n",
      "Step: 12\n",
      "loss =  -1119.8302743594852\n",
      "Step: 13\n",
      "loss =  -1113.7002032016226\n",
      "Step: 14\n",
      "loss =  -1108.7633455150367\n",
      "Step: 15\n",
      "loss =  -1105.1746438307548\n",
      "Step: 16\n",
      "loss =  -1102.592694093533\n",
      "Step: 17\n",
      "loss =  -1100.729907308483\n",
      "Step: 18\n",
      "loss =  -1099.294317269807\n",
      "Step: 19\n",
      "loss =  -1098.0235869586782\n",
      "Step: 20\n",
      "loss =  -1096.721040887868\n",
      "Step: 21\n",
      "loss =  -1095.2378886632587\n",
      "Step: 22\n",
      "loss =  -1093.4257832149551\n",
      "Step: 23\n",
      "loss =  -1091.0267312617304\n",
      "Step: 24\n",
      "loss =  -1087.614030852961\n",
      "Step: 25\n",
      "loss =  -1083.164016959903\n",
      "Step: 26\n",
      "loss =  -1078.0412951900335\n",
      "Step: 27\n",
      "loss =  -1070.3977373113428\n",
      "Step: 28\n",
      "loss =  -1064.537733388164\n",
      "Step: 29\n",
      "loss =  -1063.976357172347\n",
      "Min eigvals for init matrix: 4.93292762095695\n",
      "Min eigvals for init matrix: 2.7560499411624875\n",
      "Min eigvals for init matrix: 1.463919618511523\n",
      "loss =  -1241.788493882784\n",
      "Step: 0\n",
      "loss =  -1195.97809997913\n",
      "Step: 1\n",
      "loss =  -1155.8436656755941\n",
      "Step: 2\n",
      "loss =  -1124.7965448189311\n",
      "Step: 3\n",
      "loss =  -1110.0007766165827\n",
      "Step: 4\n",
      "loss =  -1102.7314029951795\n",
      "Step: 5\n",
      "loss =  -1098.1209298041274\n",
      "Step: 6\n",
      "loss =  -1094.8436604050721\n",
      "Step: 7\n",
      "loss =  -1092.1000207327097\n",
      "Step: 8\n",
      "loss =  -1089.13938193275\n",
      "Step: 9\n",
      "loss =  -1085.635471854018\n",
      "Step: 10\n",
      "loss =  -1081.9561065118492\n",
      "Step: 11\n",
      "loss =  -1077.5689297877677\n",
      "Step: 12\n",
      "loss =  -1070.4035576082936\n",
      "Step: 13\n",
      "loss =  -1064.7397114049033\n",
      "Step: 14\n",
      "loss =  -1064.058180403915\n",
      "Min eigvals for init matrix: 3.519807955728546\n",
      "Min eigvals for init matrix: 3.052730609817348\n",
      "Min eigvals for init matrix: 2.8053351481798696\n",
      "loss =  -1229.0118170682708\n",
      "Step: 0\n",
      "loss =  -1215.792294570017\n",
      "Step: 1\n",
      "loss =  -1195.1916806088993\n",
      "Step: 2\n",
      "loss =  -1176.264575719971\n",
      "Step: 3\n",
      "loss =  -1165.6604040583463\n",
      "Step: 4\n",
      "loss =  -1161.917268103173\n",
      "Step: 5\n",
      "loss =  -1160.1606807062776\n",
      "Step: 6\n",
      "loss =  -1158.7731760196673\n",
      "Step: 7\n",
      "loss =  -1157.3815228989556\n",
      "Step: 8\n",
      "loss =  -1155.8425499880466\n",
      "Step: 9\n",
      "loss =  -1154.0461328530253\n",
      "Step: 10\n",
      "loss =  -1151.854848700709\n",
      "Step: 11\n",
      "loss =  -1149.1022025671955\n",
      "Step: 12\n",
      "loss =  -1145.7697829741123\n",
      "Step: 13\n",
      "loss =  -1142.1657635886409\n",
      "Step: 14\n",
      "loss =  -1138.549205472919\n",
      "Step: 15\n",
      "loss =  -1134.8566197612347\n",
      "Step: 16\n",
      "loss =  -1130.8078383420116\n",
      "Step: 17\n",
      "loss =  -1126.1059765934303\n",
      "Step: 18\n",
      "loss =  -1120.8194921274203\n",
      "Step: 19\n",
      "loss =  -1115.5496973824\n",
      "Step: 20\n",
      "loss =  -1110.874432038997\n",
      "Step: 21\n",
      "loss =  -1106.9785455154918\n",
      "Step: 22\n",
      "loss =  -1103.9225165070661\n",
      "Step: 23\n",
      "loss =  -1101.6757670696077\n",
      "Step: 24\n",
      "loss =  -1100.0275518017481\n",
      "Step: 25\n",
      "loss =  -1098.6902289484492\n",
      "Step: 26\n",
      "loss =  -1097.4234468164384\n",
      "Step: 27\n",
      "loss =  -1096.05312044945\n",
      "Step: 28\n",
      "loss =  -1094.4380496260997\n",
      "Step: 29\n",
      "loss =  -1092.3969458880822\n",
      "Step: 30\n",
      "loss =  -1089.5776815958438\n",
      "Step: 31\n",
      "loss =  -1085.6261617529963\n",
      "Step: 32\n",
      "loss =  -1080.90331411377\n",
      "Step: 33\n",
      "loss =  -1074.957659244884\n",
      "Step: 34\n",
      "loss =  -1066.4870728444357\n",
      "Step: 35\n",
      "loss =  -1064.1403035067092\n",
      "Step: 36\n",
      "loss =  -1063.9053792764466\n",
      "Min eigvals for init matrix: 1.510364656900327\n",
      "Min eigvals for init matrix: 3.6037174703186654\n",
      "Min eigvals for init matrix: 3.942706005141339\n",
      "loss =  -1195.8812606066253\n",
      "Step: 0\n",
      "loss =  -1183.2710560500473\n",
      "Step: 1\n",
      "loss =  -1175.1717311386728\n",
      "Step: 2\n",
      "loss =  -1167.3103121662696\n",
      "Step: 3\n",
      "loss =  -1159.7974114129188\n",
      "Step: 4\n",
      "loss =  -1155.4248096549218\n",
      "Step: 5\n",
      "loss =  -1153.884249612341\n",
      "Step: 6\n",
      "loss =  -1153.241761546882\n",
      "Min eigvals for init matrix: 3.112789611206791\n",
      "Min eigvals for init matrix: 3.2202438741628323\n",
      "Min eigvals for init matrix: 0.3961296525678675\n",
      "loss =  -1218.6614034519089\n",
      "Step: 0\n",
      "loss =  -1181.4587558956828\n",
      "Step: 1\n",
      "loss =  -1157.4944013835948\n",
      "Step: 2\n",
      "loss =  -1145.986795919092\n",
      "Step: 3\n",
      "loss =  -1134.810492468629\n",
      "Step: 4\n",
      "loss =  -1127.0471758549982\n",
      "Step: 5\n",
      "loss =  -1123.0164391723922\n",
      "Step: 6\n",
      "loss =  -1120.0600030899145\n",
      "Step: 7\n",
      "loss =  -1117.2829843037605\n",
      "Step: 8\n",
      "loss =  -1114.4950982439198\n",
      "Step: 9\n",
      "loss =  -1111.6317069451798\n",
      "Step: 10\n",
      "loss =  -1108.6320617013942\n",
      "Step: 11\n",
      "loss =  -1105.4553693895325\n",
      "Step: 12\n",
      "loss =  -1102.1549727035297\n",
      "Step: 13\n",
      "loss =  -1098.8895614458052\n",
      "Step: 14\n",
      "loss =  -1095.7060280355054\n",
      "Step: 15\n",
      "loss =  -1092.250920305374\n",
      "Step: 16\n",
      "loss =  -1087.6635019692865\n",
      "Step: 17\n",
      "loss =  -1081.1743099494195\n",
      "Step: 18\n",
      "loss =  -1072.896894272799\n",
      "Step: 19\n",
      "loss =  -1064.7407038095644\n",
      "Step: 20\n",
      "loss =  -1063.9254656150451\n"
     ]
    }
   ],
   "source": [
    "best_loss, best_pi, best_mu, best_sigma = train_EM(X, 3)"
   ]
  },
  {
   "cell_type": "code",
   "execution_count": 11,
   "metadata": {
    "id": "mK_M6QLnBEEe"
   },
   "outputs": [
    {
     "data": {
      "image/png": "[encoded data removed]",
      "text/plain": [
       "<Figure size 432x288 with 1 Axes>"
      ]
     },
     "metadata": {
      "needs_background": "light"
     },
     "output_type": "display_data"
    }
   ],
   "source": [
    "gamma = E_step(X, best_pi, best_mu, best_sigma)\n",
    "labels = gamma.argmax(axis=1)\n",
    "colors = np.array([(31, 119, 180), (255, 127, 14), (44, 160, 44)]) / 255.\n",
    "fig, ax = plt.subplots(1, 1)\n",
    "ax.scatter(X[:, 0], X[:, 1], c=gamma, s=50)\n",
    "ax.axis('equal')\n",
    "ax.set_xlabel('$x_1$')\n",
    "ax.set_ylabel('$x_2$')\n",
    "plt.show()\n",
    "fig.savefig('g_3_soft.png')"
   ]
  },
  {
   "cell_type": "code",
   "execution_count": 12,
   "metadata": {},
   "outputs": [
    {
     "data": {
      "image/png": "[encoded data removed]",
      "text/plain": [
       "<Figure size 432x288 with 1 Axes>"
      ]
     },
     "metadata": {
      "needs_background": "light"
     },
     "output_type": "display_data"
    }
   ],
   "source": [
    "labels = gamma.argmax(axis=1)\n",
    "colors = np.array([(31, 119, 180), (255, 127, 14), (44, 160, 44)]) / 255.\n",
    "fig, ax = plt.subplots(1, 1)\n",
    "ax.scatter(X[:, 0], X[:, 1], c=gamma, s=80)\n",
    "ax.axis('equal')\n",
    "ax.set_xlabel('$x_1$')\n",
    "ax.set_ylabel('$x_2$')\n",
    "ax.set_xlim((-2,2))\n",
    "ax.set_ylim((2,5))\n",
    "plt.show()\n",
    "fig.savefig('g_3_1_soft.png')"
   ]
  },
  {
   "cell_type": "code",
   "execution_count": 13,
   "metadata": {},
   "outputs": [
    {
     "data": {
      "image/png": "[encoded data removed]",
      "text/plain": [
       "<Figure size 432x288 with 1 Axes>"
      ]
     },
     "metadata": {
      "needs_background": "light"
     },
     "output_type": "display_data"
    }
   ],
   "source": [
    "fig, ax = plt.subplots(1, 1)\n",
    "ax.scatter(X[:, 0], X[:, 1], c='g', s=50)\n",
    "ax.axis('equal')\n",
    "ax.set_xlabel('$x_1$')\n",
    "ax.set_ylabel('$x_2$')\n",
    "plt.show()\n",
    "fig.savefig('g_3_empty.png')"
   ]
  },
  {
   "cell_type": "code",
   "execution_count": 14,
   "metadata": {},
   "outputs": [
    {
     "data": {
      "image/png": "[encoded data removed]",
      "text/plain": [
       "<Figure size 432x288 with 1 Axes>"
      ]
     },
     "metadata": {
      "needs_background": "light"
     },
     "output_type": "display_data"
    }
   ],
   "source": [
    "\n",
    "labels = gamma.argmax(axis=1)\n",
    "colors = np.array([(31, 119, 180), (255, 127, 14), (44, 160, 44)]) / 255.\n",
    "fig, ax = plt.subplots(1, 1)\n",
    "ax.scatter(X[:, 0], X[:, 1], c=colors[labels], s=50)\n",
    "ax.axis('equal')\n",
    "ax.set_xlabel('$x_1$')\n",
    "ax.set_ylabel('$x_2$')\n",
    "plt.show()\n",
    "fig.savefig('g_3_hard.png')"
   ]
  },
  {
   "cell_type": "code",
   "execution_count": null,
   "metadata": {},
   "outputs": [],
   "source": []
  },
  {
   "cell_type": "code",
   "execution_count": null,
   "metadata": {},
   "outputs": [],
   "source": []
  },
  {
   "cell_type": "code",
   "execution_count": null,
   "metadata": {},
   "outputs": [],
   "source": []
  }
 ],
 "metadata": {
  "colab": {
   "collapsed_sections": [],
   "name": "em_assignment.ipynb",
   "provenance": []
  },
  "kernelspec": {
   "display_name": "Python 3",
   "language": "python",
   "name": "python3"
  },
  "language_info": {
   "codemirror_mode": {
    "name": "ipython",
    "version": 3
   },
   "file_extension": ".py",
   "mimetype": "text/x-python",
   "name": "python",
   "nbconvert_exporter": "python",
   "pygments_lexer": "ipython3",
   "version": "3.7.6"
  }
 },
 "nbformat": 4,
 "nbformat_minor": 1
}
